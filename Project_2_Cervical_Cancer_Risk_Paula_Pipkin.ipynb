{
  "nbformat": 4,
  "nbformat_minor": 0,
  "metadata": {
    "colab": {
      "name": "Project 2 - Cervical Cancer Risk - Paula Pipkin.ipynb",
      "provenance": [],
      "collapsed_sections": [
        "RljGvJvxq0b5"
      ],
      "mount_file_id": "1unM0d2-lpiqts6b44fR-YMeOsjSpCHU9",
      "authorship_tag": "ABX9TyMXkojDgCgAz07iVAceuJYm",
      "include_colab_link": true
    },
    "kernelspec": {
      "name": "python3",
      "display_name": "Python 3"
    },
    "language_info": {
      "name": "python"
    }
  },
  "cells": [
    {
      "cell_type": "markdown",
      "metadata": {
        "id": "view-in-github",
        "colab_type": "text"
      },
      "source": [
        "<a href=\"https://colab.research.google.com/github/paulapipkin/Cervical_Cancer_Risk-Factor/blob/main/Project_2_Cervical_Cancer_Risk_Paula_Pipkin.ipynb\" target=\"_parent\"><img src=\"https://colab.research.google.com/assets/colab-badge.svg\" alt=\"Open In Colab\"/></a>"
      ]
    },
    {
      "cell_type": "markdown",
      "source": [
        "### Cervical Cancer Risk - Project 2\n",
        "\n",
        "- Paula Pipkin\n",
        "- 8/4"
      ],
      "metadata": {
        "id": "2swwmfgsgxE1"
      }
    },
    {
      "cell_type": "markdown",
      "source": [
        "###Intro"
      ],
      "metadata": {
        "id": "KP6dbTkiqxK0"
      }
    },
    {
      "cell_type": "markdown",
      "source": [
        "- Cervical Cancer Risk Factor Dataset (**Note**: CC = Cervical Cancer**)\n",
        "\n",
        "1) Source of data\n",
        "- https://archive.ics.uci.edu/ml/datasets/Cervical+cancer+%28Risk+Factors%29# (UCI Machine Learning Repository)\n",
        "\n",
        "2) Brief description of data\n",
        "- This dataset focuses on the prediction of indicators/diagnosis of cervical cancer. The features cover demographic information, habits, and historic medical records.\n",
        "\n",
        "\n",
        "3) What is the target?\n",
        "- Feature Biopsy {1: Positive for CC, 0: Negative for CC}\n",
        "\n",
        "4) Is this a classification or regression problem?\n",
        "- Classification\n",
        "\n",
        "5) How many features?\n",
        "- 35 + Target\n",
        "\n",
        "6) How many rows of data.\n",
        "- 858\n",
        "\n",
        "7) What, if any, challenges do your foresee in cleaning, exploring, or modeling with this dataset?\n",
        "- Facing so many variables, I believe my greatest challange will be finding the best model, I might have to try a few to see which one will be more adequated "
      ],
      "metadata": {
        "id": "ctr9J_rpg6tQ"
      }
    },
    {
      "cell_type": "markdown",
      "source": [
        "**Some Data\tDescription**\n",
        "\n",
        "- **Hinselmann** : A test method for cervical cancer by examining the cells on an instrument called colposcope.\n",
        "- **Schiller** : A test in which iodine is applied to the cervix. The iodine colors healthy cells brown; abnormal cells remain unstained, usually appearing white or yellow.\n",
        "- **Citology**: Also called the Pap test or Pap smear, testing for human papillomavirus (HPV).\n",
        "- **Biopsy**: A surgical extraction to collect sample cells or tissues for further examination to identify the presence or extent of a disease.\n",
        "\n"
      ],
      "metadata": {
        "id": "c68TUW0QR_VM"
      }
    },
    {
      "cell_type": "markdown",
      "source": [
        "### Part 0 - Import Libraries and Load Data"
      ],
      "metadata": {
        "id": "RljGvJvxq0b5"
      }
    },
    {
      "cell_type": "code",
      "source": [
        "import pandas as pd\n",
        "import numpy as np\n",
        "\n",
        "#prepare for ML\n",
        "from sklearn.model_selection import train_test_split, GridSearchCV\n",
        "from sklearn.impute import SimpleImputer\n",
        "from sklearn.preprocessing import StandardScaler\n",
        "from sklearn.compose import  make_column_transformer, make_column_selector\n",
        "from sklearn.pipeline import make_pipeline\n",
        "\n",
        "from imblearn.over_sampling import SMOTE\n",
        "from imblearn.pipeline import make_pipeline as smote_pipe\n",
        "\n",
        "from sklearn.decomposition import PCA\n",
        "from sklearn.discriminant_analysis import LinearDiscriminantAnalysis as LDA\n",
        "\n",
        "#models\n",
        "from sklearn.ensemble import RandomForestClassifier\n",
        "from sklearn.neighbors import KNeighborsClassifier\n",
        "from lightgbm import LGBMClassifier\n",
        "\n",
        "#metrics\n",
        "from sklearn.metrics import accuracy_score, precision_score, recall_score, ConfusionMatrixDisplay, classification_report, plot_confusion_matrix\n",
        "from sklearn.metrics import roc_auc_score, RocCurveDisplay\n",
        "\n",
        "#plot\n",
        "import matplotlib.pyplot as plt\n",
        "\n",
        "#customize\n",
        "import seaborn as sns\n",
        "from sklearn import set_config\n",
        "set_config(display='diagram')\n",
        "\n"
      ],
      "metadata": {
        "id": "cCs7BWFRhIf9"
      },
      "execution_count": 161,
      "outputs": []
    },
    {
      "cell_type": "code",
      "execution_count": 162,
      "metadata": {
        "colab": {
          "base_uri": "https://localhost:8080/",
          "height": 404
        },
        "id": "TUzTBa3qd72o",
        "outputId": "15c21d6b-7fa5-4e97-9bf5-1394f70598f3"
      },
      "outputs": [
        {
          "output_type": "stream",
          "name": "stdout",
          "text": [
            "(858, 36)\n",
            "0\n"
          ]
        },
        {
          "output_type": "execute_result",
          "data": {
            "text/plain": [
              "   Age Number of sexual partners First sexual intercourse Num of pregnancies  \\\n",
              "0   18                       4.0                     15.0                1.0   \n",
              "1   15                       1.0                     14.0                1.0   \n",
              "2   34                       1.0                        ?                1.0   \n",
              "3   52                       5.0                     16.0                4.0   \n",
              "4   46                       3.0                     21.0                4.0   \n",
              "\n",
              "  Smokes Smokes (years) Smokes (packs/year) Hormonal Contraceptives  \\\n",
              "0    0.0            0.0                 0.0                     0.0   \n",
              "1    0.0            0.0                 0.0                     0.0   \n",
              "2    0.0            0.0                 0.0                     0.0   \n",
              "3    1.0           37.0                37.0                     1.0   \n",
              "4    0.0            0.0                 0.0                     1.0   \n",
              "\n",
              "  Hormonal Contraceptives (years)  IUD  ... STDs: Time since first diagnosis  \\\n",
              "0                             0.0  0.0  ...                                ?   \n",
              "1                             0.0  0.0  ...                                ?   \n",
              "2                             0.0  0.0  ...                                ?   \n",
              "3                             3.0  0.0  ...                                ?   \n",
              "4                            15.0  0.0  ...                                ?   \n",
              "\n",
              "  STDs: Time since last diagnosis Dx:Cancer Dx:CIN Dx:HPV Dx Hinselmann  \\\n",
              "0                               ?         0      0      0  0          0   \n",
              "1                               ?         0      0      0  0          0   \n",
              "2                               ?         0      0      0  0          0   \n",
              "3                               ?         1      0      1  0          0   \n",
              "4                               ?         0      0      0  0          0   \n",
              "\n",
              "  Schiller Citology Biopsy  \n",
              "0        0        0      0  \n",
              "1        0        0      0  \n",
              "2        0        0      0  \n",
              "3        0        0      0  \n",
              "4        0        0      0  \n",
              "\n",
              "[5 rows x 36 columns]"
            ],
            "text/html": [
              "\n",
              "  <div id=\"df-c9959055-ec96-403b-a33b-48ceec15e3b2\">\n",
              "    <div class=\"colab-df-container\">\n",
              "      <div>\n",
              "<style scoped>\n",
              "    .dataframe tbody tr th:only-of-type {\n",
              "        vertical-align: middle;\n",
              "    }\n",
              "\n",
              "    .dataframe tbody tr th {\n",
              "        vertical-align: top;\n",
              "    }\n",
              "\n",
              "    .dataframe thead th {\n",
              "        text-align: right;\n",
              "    }\n",
              "</style>\n",
              "<table border=\"1\" class=\"dataframe\">\n",
              "  <thead>\n",
              "    <tr style=\"text-align: right;\">\n",
              "      <th></th>\n",
              "      <th>Age</th>\n",
              "      <th>Number of sexual partners</th>\n",
              "      <th>First sexual intercourse</th>\n",
              "      <th>Num of pregnancies</th>\n",
              "      <th>Smokes</th>\n",
              "      <th>Smokes (years)</th>\n",
              "      <th>Smokes (packs/year)</th>\n",
              "      <th>Hormonal Contraceptives</th>\n",
              "      <th>Hormonal Contraceptives (years)</th>\n",
              "      <th>IUD</th>\n",
              "      <th>...</th>\n",
              "      <th>STDs: Time since first diagnosis</th>\n",
              "      <th>STDs: Time since last diagnosis</th>\n",
              "      <th>Dx:Cancer</th>\n",
              "      <th>Dx:CIN</th>\n",
              "      <th>Dx:HPV</th>\n",
              "      <th>Dx</th>\n",
              "      <th>Hinselmann</th>\n",
              "      <th>Schiller</th>\n",
              "      <th>Citology</th>\n",
              "      <th>Biopsy</th>\n",
              "    </tr>\n",
              "  </thead>\n",
              "  <tbody>\n",
              "    <tr>\n",
              "      <th>0</th>\n",
              "      <td>18</td>\n",
              "      <td>4.0</td>\n",
              "      <td>15.0</td>\n",
              "      <td>1.0</td>\n",
              "      <td>0.0</td>\n",
              "      <td>0.0</td>\n",
              "      <td>0.0</td>\n",
              "      <td>0.0</td>\n",
              "      <td>0.0</td>\n",
              "      <td>0.0</td>\n",
              "      <td>...</td>\n",
              "      <td>?</td>\n",
              "      <td>?</td>\n",
              "      <td>0</td>\n",
              "      <td>0</td>\n",
              "      <td>0</td>\n",
              "      <td>0</td>\n",
              "      <td>0</td>\n",
              "      <td>0</td>\n",
              "      <td>0</td>\n",
              "      <td>0</td>\n",
              "    </tr>\n",
              "    <tr>\n",
              "      <th>1</th>\n",
              "      <td>15</td>\n",
              "      <td>1.0</td>\n",
              "      <td>14.0</td>\n",
              "      <td>1.0</td>\n",
              "      <td>0.0</td>\n",
              "      <td>0.0</td>\n",
              "      <td>0.0</td>\n",
              "      <td>0.0</td>\n",
              "      <td>0.0</td>\n",
              "      <td>0.0</td>\n",
              "      <td>...</td>\n",
              "      <td>?</td>\n",
              "      <td>?</td>\n",
              "      <td>0</td>\n",
              "      <td>0</td>\n",
              "      <td>0</td>\n",
              "      <td>0</td>\n",
              "      <td>0</td>\n",
              "      <td>0</td>\n",
              "      <td>0</td>\n",
              "      <td>0</td>\n",
              "    </tr>\n",
              "    <tr>\n",
              "      <th>2</th>\n",
              "      <td>34</td>\n",
              "      <td>1.0</td>\n",
              "      <td>?</td>\n",
              "      <td>1.0</td>\n",
              "      <td>0.0</td>\n",
              "      <td>0.0</td>\n",
              "      <td>0.0</td>\n",
              "      <td>0.0</td>\n",
              "      <td>0.0</td>\n",
              "      <td>0.0</td>\n",
              "      <td>...</td>\n",
              "      <td>?</td>\n",
              "      <td>?</td>\n",
              "      <td>0</td>\n",
              "      <td>0</td>\n",
              "      <td>0</td>\n",
              "      <td>0</td>\n",
              "      <td>0</td>\n",
              "      <td>0</td>\n",
              "      <td>0</td>\n",
              "      <td>0</td>\n",
              "    </tr>\n",
              "    <tr>\n",
              "      <th>3</th>\n",
              "      <td>52</td>\n",
              "      <td>5.0</td>\n",
              "      <td>16.0</td>\n",
              "      <td>4.0</td>\n",
              "      <td>1.0</td>\n",
              "      <td>37.0</td>\n",
              "      <td>37.0</td>\n",
              "      <td>1.0</td>\n",
              "      <td>3.0</td>\n",
              "      <td>0.0</td>\n",
              "      <td>...</td>\n",
              "      <td>?</td>\n",
              "      <td>?</td>\n",
              "      <td>1</td>\n",
              "      <td>0</td>\n",
              "      <td>1</td>\n",
              "      <td>0</td>\n",
              "      <td>0</td>\n",
              "      <td>0</td>\n",
              "      <td>0</td>\n",
              "      <td>0</td>\n",
              "    </tr>\n",
              "    <tr>\n",
              "      <th>4</th>\n",
              "      <td>46</td>\n",
              "      <td>3.0</td>\n",
              "      <td>21.0</td>\n",
              "      <td>4.0</td>\n",
              "      <td>0.0</td>\n",
              "      <td>0.0</td>\n",
              "      <td>0.0</td>\n",
              "      <td>1.0</td>\n",
              "      <td>15.0</td>\n",
              "      <td>0.0</td>\n",
              "      <td>...</td>\n",
              "      <td>?</td>\n",
              "      <td>?</td>\n",
              "      <td>0</td>\n",
              "      <td>0</td>\n",
              "      <td>0</td>\n",
              "      <td>0</td>\n",
              "      <td>0</td>\n",
              "      <td>0</td>\n",
              "      <td>0</td>\n",
              "      <td>0</td>\n",
              "    </tr>\n",
              "  </tbody>\n",
              "</table>\n",
              "<p>5 rows × 36 columns</p>\n",
              "</div>\n",
              "      <button class=\"colab-df-convert\" onclick=\"convertToInteractive('df-c9959055-ec96-403b-a33b-48ceec15e3b2')\"\n",
              "              title=\"Convert this dataframe to an interactive table.\"\n",
              "              style=\"display:none;\">\n",
              "        \n",
              "  <svg xmlns=\"http://www.w3.org/2000/svg\" height=\"24px\"viewBox=\"0 0 24 24\"\n",
              "       width=\"24px\">\n",
              "    <path d=\"M0 0h24v24H0V0z\" fill=\"none\"/>\n",
              "    <path d=\"M18.56 5.44l.94 2.06.94-2.06 2.06-.94-2.06-.94-.94-2.06-.94 2.06-2.06.94zm-11 1L8.5 8.5l.94-2.06 2.06-.94-2.06-.94L8.5 2.5l-.94 2.06-2.06.94zm10 10l.94 2.06.94-2.06 2.06-.94-2.06-.94-.94-2.06-.94 2.06-2.06.94z\"/><path d=\"M17.41 7.96l-1.37-1.37c-.4-.4-.92-.59-1.43-.59-.52 0-1.04.2-1.43.59L10.3 9.45l-7.72 7.72c-.78.78-.78 2.05 0 2.83L4 21.41c.39.39.9.59 1.41.59.51 0 1.02-.2 1.41-.59l7.78-7.78 2.81-2.81c.8-.78.8-2.07 0-2.86zM5.41 20L4 18.59l7.72-7.72 1.47 1.35L5.41 20z\"/>\n",
              "  </svg>\n",
              "      </button>\n",
              "      \n",
              "  <style>\n",
              "    .colab-df-container {\n",
              "      display:flex;\n",
              "      flex-wrap:wrap;\n",
              "      gap: 12px;\n",
              "    }\n",
              "\n",
              "    .colab-df-convert {\n",
              "      background-color: #E8F0FE;\n",
              "      border: none;\n",
              "      border-radius: 50%;\n",
              "      cursor: pointer;\n",
              "      display: none;\n",
              "      fill: #1967D2;\n",
              "      height: 32px;\n",
              "      padding: 0 0 0 0;\n",
              "      width: 32px;\n",
              "    }\n",
              "\n",
              "    .colab-df-convert:hover {\n",
              "      background-color: #E2EBFA;\n",
              "      box-shadow: 0px 1px 2px rgba(60, 64, 67, 0.3), 0px 1px 3px 1px rgba(60, 64, 67, 0.15);\n",
              "      fill: #174EA6;\n",
              "    }\n",
              "\n",
              "    [theme=dark] .colab-df-convert {\n",
              "      background-color: #3B4455;\n",
              "      fill: #D2E3FC;\n",
              "    }\n",
              "\n",
              "    [theme=dark] .colab-df-convert:hover {\n",
              "      background-color: #434B5C;\n",
              "      box-shadow: 0px 1px 3px 1px rgba(0, 0, 0, 0.15);\n",
              "      filter: drop-shadow(0px 1px 2px rgba(0, 0, 0, 0.3));\n",
              "      fill: #FFFFFF;\n",
              "    }\n",
              "  </style>\n",
              "\n",
              "      <script>\n",
              "        const buttonEl =\n",
              "          document.querySelector('#df-c9959055-ec96-403b-a33b-48ceec15e3b2 button.colab-df-convert');\n",
              "        buttonEl.style.display =\n",
              "          google.colab.kernel.accessAllowed ? 'block' : 'none';\n",
              "\n",
              "        async function convertToInteractive(key) {\n",
              "          const element = document.querySelector('#df-c9959055-ec96-403b-a33b-48ceec15e3b2');\n",
              "          const dataTable =\n",
              "            await google.colab.kernel.invokeFunction('convertToInteractive',\n",
              "                                                     [key], {});\n",
              "          if (!dataTable) return;\n",
              "\n",
              "          const docLinkHtml = 'Like what you see? Visit the ' +\n",
              "            '<a target=\"_blank\" href=https://colab.research.google.com/notebooks/data_table.ipynb>data table notebook</a>'\n",
              "            + ' to learn more about interactive tables.';\n",
              "          element.innerHTML = '';\n",
              "          dataTable['output_type'] = 'display_data';\n",
              "          await google.colab.output.renderOutput(dataTable, element);\n",
              "          const docLink = document.createElement('div');\n",
              "          docLink.innerHTML = docLinkHtml;\n",
              "          element.appendChild(docLink);\n",
              "        }\n",
              "      </script>\n",
              "    </div>\n",
              "  </div>\n",
              "  "
            ]
          },
          "metadata": {},
          "execution_count": 162
        }
      ],
      "source": [
        "df = pd.read_csv('/content/drive/MyDrive/BootCamp/PROJECT 2/risk_factors_cervical_cancer (1).csv')\n",
        "print(df.shape)\n",
        "print(df.isna().sum().sum())\n",
        "df.head()"
      ]
    },
    {
      "cell_type": "markdown",
      "source": [
        "### Part 1 - Clean and explore the data set"
      ],
      "metadata": {
        "id": "SbaMwURprU0L"
      }
    },
    {
      "cell_type": "code",
      "source": [
        "df.info()"
      ],
      "metadata": {
        "id": "jnRRfdTlq_Cp",
        "colab": {
          "base_uri": "https://localhost:8080/"
        },
        "outputId": "8c120574-0a77-4d1e-f8ac-86d1f51674eb"
      },
      "execution_count": 163,
      "outputs": [
        {
          "output_type": "stream",
          "name": "stdout",
          "text": [
            "<class 'pandas.core.frame.DataFrame'>\n",
            "RangeIndex: 858 entries, 0 to 857\n",
            "Data columns (total 36 columns):\n",
            " #   Column                              Non-Null Count  Dtype \n",
            "---  ------                              --------------  ----- \n",
            " 0   Age                                 858 non-null    int64 \n",
            " 1   Number of sexual partners           858 non-null    object\n",
            " 2   First sexual intercourse            858 non-null    object\n",
            " 3   Num of pregnancies                  858 non-null    object\n",
            " 4   Smokes                              858 non-null    object\n",
            " 5   Smokes (years)                      858 non-null    object\n",
            " 6   Smokes (packs/year)                 858 non-null    object\n",
            " 7   Hormonal Contraceptives             858 non-null    object\n",
            " 8   Hormonal Contraceptives (years)     858 non-null    object\n",
            " 9   IUD                                 858 non-null    object\n",
            " 10  IUD (years)                         858 non-null    object\n",
            " 11  STDs                                858 non-null    object\n",
            " 12  STDs (number)                       858 non-null    object\n",
            " 13  STDs:condylomatosis                 858 non-null    object\n",
            " 14  STDs:cervical condylomatosis        858 non-null    object\n",
            " 15  STDs:vaginal condylomatosis         858 non-null    object\n",
            " 16  STDs:vulvo-perineal condylomatosis  858 non-null    object\n",
            " 17  STDs:syphilis                       858 non-null    object\n",
            " 18  STDs:pelvic inflammatory disease    858 non-null    object\n",
            " 19  STDs:genital herpes                 858 non-null    object\n",
            " 20  STDs:molluscum contagiosum          858 non-null    object\n",
            " 21  STDs:AIDS                           858 non-null    object\n",
            " 22  STDs:HIV                            858 non-null    object\n",
            " 23  STDs:Hepatitis B                    858 non-null    object\n",
            " 24  STDs:HPV                            858 non-null    object\n",
            " 25  STDs: Number of diagnosis           858 non-null    int64 \n",
            " 26  STDs: Time since first diagnosis    858 non-null    object\n",
            " 27  STDs: Time since last diagnosis     858 non-null    object\n",
            " 28  Dx:Cancer                           858 non-null    int64 \n",
            " 29  Dx:CIN                              858 non-null    int64 \n",
            " 30  Dx:HPV                              858 non-null    int64 \n",
            " 31  Dx                                  858 non-null    int64 \n",
            " 32  Hinselmann                          858 non-null    int64 \n",
            " 33  Schiller                            858 non-null    int64 \n",
            " 34  Citology                            858 non-null    int64 \n",
            " 35  Biopsy                              858 non-null    int64 \n",
            "dtypes: int64(10), object(26)\n",
            "memory usage: 241.4+ KB\n"
          ]
        }
      ]
    },
    {
      "cell_type": "markdown",
      "source": [
        "- Many of the columns have '?' instead of a nan value, this is causing many coluns to be innterpreted as type object, and is also not computing the null values, so my first step is replacing all '?' with 'NaN'"
      ],
      "metadata": {
        "id": "6n7YqBYzsHcL"
      }
    },
    {
      "cell_type": "code",
      "source": [
        "df.replace('?', np.NaN, inplace=True)\n"
      ],
      "metadata": {
        "id": "wdpuge4mrlMV"
      },
      "execution_count": 164,
      "outputs": []
    },
    {
      "cell_type": "code",
      "source": [
        "df.info()"
      ],
      "metadata": {
        "colab": {
          "base_uri": "https://localhost:8080/"
        },
        "id": "vOdZxLtitHzr",
        "outputId": "eb147958-613f-4e64-94b7-2b6b0083ee0c"
      },
      "execution_count": 165,
      "outputs": [
        {
          "output_type": "stream",
          "name": "stdout",
          "text": [
            "<class 'pandas.core.frame.DataFrame'>\n",
            "RangeIndex: 858 entries, 0 to 857\n",
            "Data columns (total 36 columns):\n",
            " #   Column                              Non-Null Count  Dtype \n",
            "---  ------                              --------------  ----- \n",
            " 0   Age                                 858 non-null    int64 \n",
            " 1   Number of sexual partners           832 non-null    object\n",
            " 2   First sexual intercourse            851 non-null    object\n",
            " 3   Num of pregnancies                  802 non-null    object\n",
            " 4   Smokes                              845 non-null    object\n",
            " 5   Smokes (years)                      845 non-null    object\n",
            " 6   Smokes (packs/year)                 845 non-null    object\n",
            " 7   Hormonal Contraceptives             750 non-null    object\n",
            " 8   Hormonal Contraceptives (years)     750 non-null    object\n",
            " 9   IUD                                 741 non-null    object\n",
            " 10  IUD (years)                         741 non-null    object\n",
            " 11  STDs                                753 non-null    object\n",
            " 12  STDs (number)                       753 non-null    object\n",
            " 13  STDs:condylomatosis                 753 non-null    object\n",
            " 14  STDs:cervical condylomatosis        753 non-null    object\n",
            " 15  STDs:vaginal condylomatosis         753 non-null    object\n",
            " 16  STDs:vulvo-perineal condylomatosis  753 non-null    object\n",
            " 17  STDs:syphilis                       753 non-null    object\n",
            " 18  STDs:pelvic inflammatory disease    753 non-null    object\n",
            " 19  STDs:genital herpes                 753 non-null    object\n",
            " 20  STDs:molluscum contagiosum          753 non-null    object\n",
            " 21  STDs:AIDS                           753 non-null    object\n",
            " 22  STDs:HIV                            753 non-null    object\n",
            " 23  STDs:Hepatitis B                    753 non-null    object\n",
            " 24  STDs:HPV                            753 non-null    object\n",
            " 25  STDs: Number of diagnosis           858 non-null    int64 \n",
            " 26  STDs: Time since first diagnosis    71 non-null     object\n",
            " 27  STDs: Time since last diagnosis     71 non-null     object\n",
            " 28  Dx:Cancer                           858 non-null    int64 \n",
            " 29  Dx:CIN                              858 non-null    int64 \n",
            " 30  Dx:HPV                              858 non-null    int64 \n",
            " 31  Dx                                  858 non-null    int64 \n",
            " 32  Hinselmann                          858 non-null    int64 \n",
            " 33  Schiller                            858 non-null    int64 \n",
            " 34  Citology                            858 non-null    int64 \n",
            " 35  Biopsy                              858 non-null    int64 \n",
            "dtypes: int64(10), object(26)\n",
            "memory usage: 241.4+ KB\n"
          ]
        }
      ]
    },
    {
      "cell_type": "markdown",
      "source": [
        "- Next I will convert all my object colums to float, since all my featureas are either a integer  or a 0/1 input\n"
      ],
      "metadata": {
        "id": "3H9F3iDFt_TG"
      }
    },
    {
      "cell_type": "code",
      "source": [
        "obj_cols = df.select_dtypes(exclude=['int64']).columns\n",
        "\n",
        "df[obj_cols] = df[obj_cols].astype(float)"
      ],
      "metadata": {
        "id": "mIytMN1Lt9LF"
      },
      "execution_count": 166,
      "outputs": []
    },
    {
      "cell_type": "code",
      "source": [
        "df.info()"
      ],
      "metadata": {
        "colab": {
          "base_uri": "https://localhost:8080/"
        },
        "id": "Hz2A_hT8tc0q",
        "outputId": "5093bd0a-d736-45ae-e66b-2e615027a7ad"
      },
      "execution_count": 167,
      "outputs": [
        {
          "output_type": "stream",
          "name": "stdout",
          "text": [
            "<class 'pandas.core.frame.DataFrame'>\n",
            "RangeIndex: 858 entries, 0 to 857\n",
            "Data columns (total 36 columns):\n",
            " #   Column                              Non-Null Count  Dtype  \n",
            "---  ------                              --------------  -----  \n",
            " 0   Age                                 858 non-null    int64  \n",
            " 1   Number of sexual partners           832 non-null    float64\n",
            " 2   First sexual intercourse            851 non-null    float64\n",
            " 3   Num of pregnancies                  802 non-null    float64\n",
            " 4   Smokes                              845 non-null    float64\n",
            " 5   Smokes (years)                      845 non-null    float64\n",
            " 6   Smokes (packs/year)                 845 non-null    float64\n",
            " 7   Hormonal Contraceptives             750 non-null    float64\n",
            " 8   Hormonal Contraceptives (years)     750 non-null    float64\n",
            " 9   IUD                                 741 non-null    float64\n",
            " 10  IUD (years)                         741 non-null    float64\n",
            " 11  STDs                                753 non-null    float64\n",
            " 12  STDs (number)                       753 non-null    float64\n",
            " 13  STDs:condylomatosis                 753 non-null    float64\n",
            " 14  STDs:cervical condylomatosis        753 non-null    float64\n",
            " 15  STDs:vaginal condylomatosis         753 non-null    float64\n",
            " 16  STDs:vulvo-perineal condylomatosis  753 non-null    float64\n",
            " 17  STDs:syphilis                       753 non-null    float64\n",
            " 18  STDs:pelvic inflammatory disease    753 non-null    float64\n",
            " 19  STDs:genital herpes                 753 non-null    float64\n",
            " 20  STDs:molluscum contagiosum          753 non-null    float64\n",
            " 21  STDs:AIDS                           753 non-null    float64\n",
            " 22  STDs:HIV                            753 non-null    float64\n",
            " 23  STDs:Hepatitis B                    753 non-null    float64\n",
            " 24  STDs:HPV                            753 non-null    float64\n",
            " 25  STDs: Number of diagnosis           858 non-null    int64  \n",
            " 26  STDs: Time since first diagnosis    71 non-null     float64\n",
            " 27  STDs: Time since last diagnosis     71 non-null     float64\n",
            " 28  Dx:Cancer                           858 non-null    int64  \n",
            " 29  Dx:CIN                              858 non-null    int64  \n",
            " 30  Dx:HPV                              858 non-null    int64  \n",
            " 31  Dx                                  858 non-null    int64  \n",
            " 32  Hinselmann                          858 non-null    int64  \n",
            " 33  Schiller                            858 non-null    int64  \n",
            " 34  Citology                            858 non-null    int64  \n",
            " 35  Biopsy                              858 non-null    int64  \n",
            "dtypes: float64(26), int64(10)\n",
            "memory usage: 241.4 KB\n"
          ]
        }
      ]
    },
    {
      "cell_type": "code",
      "source": [
        "df.isna().sum()"
      ],
      "metadata": {
        "colab": {
          "base_uri": "https://localhost:8080/"
        },
        "id": "pR34XVK9wywW",
        "outputId": "d8cb0671-da74-41bc-8113-982d6c72414a"
      },
      "execution_count": 168,
      "outputs": [
        {
          "output_type": "execute_result",
          "data": {
            "text/plain": [
              "Age                                     0\n",
              "Number of sexual partners              26\n",
              "First sexual intercourse                7\n",
              "Num of pregnancies                     56\n",
              "Smokes                                 13\n",
              "Smokes (years)                         13\n",
              "Smokes (packs/year)                    13\n",
              "Hormonal Contraceptives               108\n",
              "Hormonal Contraceptives (years)       108\n",
              "IUD                                   117\n",
              "IUD (years)                           117\n",
              "STDs                                  105\n",
              "STDs (number)                         105\n",
              "STDs:condylomatosis                   105\n",
              "STDs:cervical condylomatosis          105\n",
              "STDs:vaginal condylomatosis           105\n",
              "STDs:vulvo-perineal condylomatosis    105\n",
              "STDs:syphilis                         105\n",
              "STDs:pelvic inflammatory disease      105\n",
              "STDs:genital herpes                   105\n",
              "STDs:molluscum contagiosum            105\n",
              "STDs:AIDS                             105\n",
              "STDs:HIV                              105\n",
              "STDs:Hepatitis B                      105\n",
              "STDs:HPV                              105\n",
              "STDs: Number of diagnosis               0\n",
              "STDs: Time since first diagnosis      787\n",
              "STDs: Time since last diagnosis       787\n",
              "Dx:Cancer                               0\n",
              "Dx:CIN                                  0\n",
              "Dx:HPV                                  0\n",
              "Dx                                      0\n",
              "Hinselmann                              0\n",
              "Schiller                                0\n",
              "Citology                                0\n",
              "Biopsy                                  0\n",
              "dtype: int64"
            ]
          },
          "metadata": {},
          "execution_count": 168
        }
      ]
    },
    {
      "cell_type": "code",
      "source": [
        "df.duplicated().sum()"
      ],
      "metadata": {
        "colab": {
          "base_uri": "https://localhost:8080/"
        },
        "id": "si5qi4TFxMOs",
        "outputId": "7bd0d26a-4f17-41fb-f9a9-452d46ed9a81"
      },
      "execution_count": 169,
      "outputs": [
        {
          "output_type": "execute_result",
          "data": {
            "text/plain": [
              "23"
            ]
          },
          "metadata": {},
          "execution_count": 169
        }
      ]
    },
    {
      "cell_type": "code",
      "source": [
        "df.drop_duplicates(inplace=True)\n",
        "df.shape"
      ],
      "metadata": {
        "colab": {
          "base_uri": "https://localhost:8080/"
        },
        "id": "BAZIdLevxWJN",
        "outputId": "c60b297c-6d88-499f-ccb5-58f393ca26b6"
      },
      "execution_count": 170,
      "outputs": [
        {
          "output_type": "execute_result",
          "data": {
            "text/plain": [
              "(835, 36)"
            ]
          },
          "metadata": {},
          "execution_count": 170
        }
      ]
    },
    {
      "cell_type": "markdown",
      "source": [
        "- Target row has no missing values"
      ],
      "metadata": {
        "id": "hijVoflD4Qnl"
      }
    },
    {
      "cell_type": "code",
      "source": [
        "df['Biopsy'].value_counts(normalize=True)"
      ],
      "metadata": {
        "colab": {
          "base_uri": "https://localhost:8080/"
        },
        "id": "YiAT6Dmt4QLh",
        "outputId": "1ce21c5e-ca15-4882-b180-b555acbb8315"
      },
      "execution_count": 171,
      "outputs": [
        {
          "output_type": "execute_result",
          "data": {
            "text/plain": [
              "0    0.935329\n",
              "1    0.064671\n",
              "Name: Biopsy, dtype: float64"
            ]
          },
          "metadata": {},
          "execution_count": 171
        }
      ]
    },
    {
      "cell_type": "markdown",
      "source": [
        "-  Data is not balanced"
      ],
      "metadata": {
        "id": "0u5ecvl46Fab"
      }
    },
    {
      "cell_type": "markdown",
      "source": [
        " - Columns STDs: Time since first diagnosis and STDs: Time since last diagnosis are missing 94% of the data, I'll drop those columns"
      ],
      "metadata": {
        "id": "5Yzq5p9Ex3Sd"
      }
    },
    {
      "cell_type": "code",
      "source": [
        "df.drop(columns=[ 'STDs: Time since first diagnosis', 'STDs: Time since last diagnosis'], inplace=True)"
      ],
      "metadata": {
        "id": "UHu_X_yixYbc"
      },
      "execution_count": 172,
      "outputs": []
    },
    {
      "cell_type": "code",
      "source": [
        "df.describe()"
      ],
      "metadata": {
        "colab": {
          "base_uri": "https://localhost:8080/",
          "height": 428
        },
        "id": "cx5-QRLoyTKE",
        "outputId": "cc92f6df-4267-4db8-fb82-9027f0aadbb6"
      },
      "execution_count": 173,
      "outputs": [
        {
          "output_type": "execute_result",
          "data": {
            "text/plain": [
              "              Age  Number of sexual partners  First sexual intercourse  \\\n",
              "count  835.000000                 810.000000                828.000000   \n",
              "mean    27.023952                   2.551852                 17.020531   \n",
              "std      8.482986                   1.676686                  2.817000   \n",
              "min     13.000000                   1.000000                 10.000000   \n",
              "25%     21.000000                   2.000000                 15.000000   \n",
              "50%     26.000000                   2.000000                 17.000000   \n",
              "75%     32.000000                   3.000000                 18.000000   \n",
              "max     84.000000                  28.000000                 32.000000   \n",
              "\n",
              "       Num of pregnancies      Smokes  Smokes (years)  Smokes (packs/year)  \\\n",
              "count          779.000000  822.000000      822.000000           822.000000   \n",
              "mean             2.304236    0.149635        1.253850             0.465823   \n",
              "std              1.455817    0.356930        4.140727             2.256273   \n",
              "min              0.000000    0.000000        0.000000             0.000000   \n",
              "25%              1.000000    0.000000        0.000000             0.000000   \n",
              "50%              2.000000    0.000000        0.000000             0.000000   \n",
              "75%              3.000000    0.000000        0.000000             0.000000   \n",
              "max             11.000000    1.000000       37.000000            37.000000   \n",
              "\n",
              "       Hormonal Contraceptives  Hormonal Contraceptives (years)         IUD  \\\n",
              "count               732.000000                       732.000000  723.000000   \n",
              "mean                  0.651639                         2.302916    0.114799   \n",
              "std                   0.476777                         3.794180    0.319000   \n",
              "min                   0.000000                         0.000000    0.000000   \n",
              "25%                   0.000000                         0.000000    0.000000   \n",
              "50%                   1.000000                         0.500000    0.000000   \n",
              "75%                   1.000000                         3.000000    0.000000   \n",
              "max                   1.000000                        30.000000    1.000000   \n",
              "\n",
              "       ...    STDs:HPV  STDs: Number of diagnosis   Dx:Cancer      Dx:CIN  \\\n",
              "count  ...  735.000000                 835.000000  835.000000  835.000000   \n",
              "mean   ...    0.002721                   0.089820    0.021557    0.010778   \n",
              "std    ...    0.052129                   0.306335    0.145319    0.103320   \n",
              "min    ...    0.000000                   0.000000    0.000000    0.000000   \n",
              "25%    ...    0.000000                   0.000000    0.000000    0.000000   \n",
              "50%    ...    0.000000                   0.000000    0.000000    0.000000   \n",
              "75%    ...    0.000000                   0.000000    0.000000    0.000000   \n",
              "max    ...    1.000000                   3.000000    1.000000    1.000000   \n",
              "\n",
              "           Dx:HPV          Dx  Hinselmann    Schiller    Citology      Biopsy  \n",
              "count  835.000000  835.000000  835.000000  835.000000  835.000000  835.000000  \n",
              "mean     0.021557    0.028743    0.041916    0.087425    0.051497    0.064671  \n",
              "std      0.145319    0.167182    0.200518    0.282626    0.221142    0.246091  \n",
              "min      0.000000    0.000000    0.000000    0.000000    0.000000    0.000000  \n",
              "25%      0.000000    0.000000    0.000000    0.000000    0.000000    0.000000  \n",
              "50%      0.000000    0.000000    0.000000    0.000000    0.000000    0.000000  \n",
              "75%      0.000000    0.000000    0.000000    0.000000    0.000000    0.000000  \n",
              "max      1.000000    1.000000    1.000000    1.000000    1.000000    1.000000  \n",
              "\n",
              "[8 rows x 34 columns]"
            ],
            "text/html": [
              "\n",
              "  <div id=\"df-968ddade-96c3-4775-947f-cc6be17f0385\">\n",
              "    <div class=\"colab-df-container\">\n",
              "      <div>\n",
              "<style scoped>\n",
              "    .dataframe tbody tr th:only-of-type {\n",
              "        vertical-align: middle;\n",
              "    }\n",
              "\n",
              "    .dataframe tbody tr th {\n",
              "        vertical-align: top;\n",
              "    }\n",
              "\n",
              "    .dataframe thead th {\n",
              "        text-align: right;\n",
              "    }\n",
              "</style>\n",
              "<table border=\"1\" class=\"dataframe\">\n",
              "  <thead>\n",
              "    <tr style=\"text-align: right;\">\n",
              "      <th></th>\n",
              "      <th>Age</th>\n",
              "      <th>Number of sexual partners</th>\n",
              "      <th>First sexual intercourse</th>\n",
              "      <th>Num of pregnancies</th>\n",
              "      <th>Smokes</th>\n",
              "      <th>Smokes (years)</th>\n",
              "      <th>Smokes (packs/year)</th>\n",
              "      <th>Hormonal Contraceptives</th>\n",
              "      <th>Hormonal Contraceptives (years)</th>\n",
              "      <th>IUD</th>\n",
              "      <th>...</th>\n",
              "      <th>STDs:HPV</th>\n",
              "      <th>STDs: Number of diagnosis</th>\n",
              "      <th>Dx:Cancer</th>\n",
              "      <th>Dx:CIN</th>\n",
              "      <th>Dx:HPV</th>\n",
              "      <th>Dx</th>\n",
              "      <th>Hinselmann</th>\n",
              "      <th>Schiller</th>\n",
              "      <th>Citology</th>\n",
              "      <th>Biopsy</th>\n",
              "    </tr>\n",
              "  </thead>\n",
              "  <tbody>\n",
              "    <tr>\n",
              "      <th>count</th>\n",
              "      <td>835.000000</td>\n",
              "      <td>810.000000</td>\n",
              "      <td>828.000000</td>\n",
              "      <td>779.000000</td>\n",
              "      <td>822.000000</td>\n",
              "      <td>822.000000</td>\n",
              "      <td>822.000000</td>\n",
              "      <td>732.000000</td>\n",
              "      <td>732.000000</td>\n",
              "      <td>723.000000</td>\n",
              "      <td>...</td>\n",
              "      <td>735.000000</td>\n",
              "      <td>835.000000</td>\n",
              "      <td>835.000000</td>\n",
              "      <td>835.000000</td>\n",
              "      <td>835.000000</td>\n",
              "      <td>835.000000</td>\n",
              "      <td>835.000000</td>\n",
              "      <td>835.000000</td>\n",
              "      <td>835.000000</td>\n",
              "      <td>835.000000</td>\n",
              "    </tr>\n",
              "    <tr>\n",
              "      <th>mean</th>\n",
              "      <td>27.023952</td>\n",
              "      <td>2.551852</td>\n",
              "      <td>17.020531</td>\n",
              "      <td>2.304236</td>\n",
              "      <td>0.149635</td>\n",
              "      <td>1.253850</td>\n",
              "      <td>0.465823</td>\n",
              "      <td>0.651639</td>\n",
              "      <td>2.302916</td>\n",
              "      <td>0.114799</td>\n",
              "      <td>...</td>\n",
              "      <td>0.002721</td>\n",
              "      <td>0.089820</td>\n",
              "      <td>0.021557</td>\n",
              "      <td>0.010778</td>\n",
              "      <td>0.021557</td>\n",
              "      <td>0.028743</td>\n",
              "      <td>0.041916</td>\n",
              "      <td>0.087425</td>\n",
              "      <td>0.051497</td>\n",
              "      <td>0.064671</td>\n",
              "    </tr>\n",
              "    <tr>\n",
              "      <th>std</th>\n",
              "      <td>8.482986</td>\n",
              "      <td>1.676686</td>\n",
              "      <td>2.817000</td>\n",
              "      <td>1.455817</td>\n",
              "      <td>0.356930</td>\n",
              "      <td>4.140727</td>\n",
              "      <td>2.256273</td>\n",
              "      <td>0.476777</td>\n",
              "      <td>3.794180</td>\n",
              "      <td>0.319000</td>\n",
              "      <td>...</td>\n",
              "      <td>0.052129</td>\n",
              "      <td>0.306335</td>\n",
              "      <td>0.145319</td>\n",
              "      <td>0.103320</td>\n",
              "      <td>0.145319</td>\n",
              "      <td>0.167182</td>\n",
              "      <td>0.200518</td>\n",
              "      <td>0.282626</td>\n",
              "      <td>0.221142</td>\n",
              "      <td>0.246091</td>\n",
              "    </tr>\n",
              "    <tr>\n",
              "      <th>min</th>\n",
              "      <td>13.000000</td>\n",
              "      <td>1.000000</td>\n",
              "      <td>10.000000</td>\n",
              "      <td>0.000000</td>\n",
              "      <td>0.000000</td>\n",
              "      <td>0.000000</td>\n",
              "      <td>0.000000</td>\n",
              "      <td>0.000000</td>\n",
              "      <td>0.000000</td>\n",
              "      <td>0.000000</td>\n",
              "      <td>...</td>\n",
              "      <td>0.000000</td>\n",
              "      <td>0.000000</td>\n",
              "      <td>0.000000</td>\n",
              "      <td>0.000000</td>\n",
              "      <td>0.000000</td>\n",
              "      <td>0.000000</td>\n",
              "      <td>0.000000</td>\n",
              "      <td>0.000000</td>\n",
              "      <td>0.000000</td>\n",
              "      <td>0.000000</td>\n",
              "    </tr>\n",
              "    <tr>\n",
              "      <th>25%</th>\n",
              "      <td>21.000000</td>\n",
              "      <td>2.000000</td>\n",
              "      <td>15.000000</td>\n",
              "      <td>1.000000</td>\n",
              "      <td>0.000000</td>\n",
              "      <td>0.000000</td>\n",
              "      <td>0.000000</td>\n",
              "      <td>0.000000</td>\n",
              "      <td>0.000000</td>\n",
              "      <td>0.000000</td>\n",
              "      <td>...</td>\n",
              "      <td>0.000000</td>\n",
              "      <td>0.000000</td>\n",
              "      <td>0.000000</td>\n",
              "      <td>0.000000</td>\n",
              "      <td>0.000000</td>\n",
              "      <td>0.000000</td>\n",
              "      <td>0.000000</td>\n",
              "      <td>0.000000</td>\n",
              "      <td>0.000000</td>\n",
              "      <td>0.000000</td>\n",
              "    </tr>\n",
              "    <tr>\n",
              "      <th>50%</th>\n",
              "      <td>26.000000</td>\n",
              "      <td>2.000000</td>\n",
              "      <td>17.000000</td>\n",
              "      <td>2.000000</td>\n",
              "      <td>0.000000</td>\n",
              "      <td>0.000000</td>\n",
              "      <td>0.000000</td>\n",
              "      <td>1.000000</td>\n",
              "      <td>0.500000</td>\n",
              "      <td>0.000000</td>\n",
              "      <td>...</td>\n",
              "      <td>0.000000</td>\n",
              "      <td>0.000000</td>\n",
              "      <td>0.000000</td>\n",
              "      <td>0.000000</td>\n",
              "      <td>0.000000</td>\n",
              "      <td>0.000000</td>\n",
              "      <td>0.000000</td>\n",
              "      <td>0.000000</td>\n",
              "      <td>0.000000</td>\n",
              "      <td>0.000000</td>\n",
              "    </tr>\n",
              "    <tr>\n",
              "      <th>75%</th>\n",
              "      <td>32.000000</td>\n",
              "      <td>3.000000</td>\n",
              "      <td>18.000000</td>\n",
              "      <td>3.000000</td>\n",
              "      <td>0.000000</td>\n",
              "      <td>0.000000</td>\n",
              "      <td>0.000000</td>\n",
              "      <td>1.000000</td>\n",
              "      <td>3.000000</td>\n",
              "      <td>0.000000</td>\n",
              "      <td>...</td>\n",
              "      <td>0.000000</td>\n",
              "      <td>0.000000</td>\n",
              "      <td>0.000000</td>\n",
              "      <td>0.000000</td>\n",
              "      <td>0.000000</td>\n",
              "      <td>0.000000</td>\n",
              "      <td>0.000000</td>\n",
              "      <td>0.000000</td>\n",
              "      <td>0.000000</td>\n",
              "      <td>0.000000</td>\n",
              "    </tr>\n",
              "    <tr>\n",
              "      <th>max</th>\n",
              "      <td>84.000000</td>\n",
              "      <td>28.000000</td>\n",
              "      <td>32.000000</td>\n",
              "      <td>11.000000</td>\n",
              "      <td>1.000000</td>\n",
              "      <td>37.000000</td>\n",
              "      <td>37.000000</td>\n",
              "      <td>1.000000</td>\n",
              "      <td>30.000000</td>\n",
              "      <td>1.000000</td>\n",
              "      <td>...</td>\n",
              "      <td>1.000000</td>\n",
              "      <td>3.000000</td>\n",
              "      <td>1.000000</td>\n",
              "      <td>1.000000</td>\n",
              "      <td>1.000000</td>\n",
              "      <td>1.000000</td>\n",
              "      <td>1.000000</td>\n",
              "      <td>1.000000</td>\n",
              "      <td>1.000000</td>\n",
              "      <td>1.000000</td>\n",
              "    </tr>\n",
              "  </tbody>\n",
              "</table>\n",
              "<p>8 rows × 34 columns</p>\n",
              "</div>\n",
              "      <button class=\"colab-df-convert\" onclick=\"convertToInteractive('df-968ddade-96c3-4775-947f-cc6be17f0385')\"\n",
              "              title=\"Convert this dataframe to an interactive table.\"\n",
              "              style=\"display:none;\">\n",
              "        \n",
              "  <svg xmlns=\"http://www.w3.org/2000/svg\" height=\"24px\"viewBox=\"0 0 24 24\"\n",
              "       width=\"24px\">\n",
              "    <path d=\"M0 0h24v24H0V0z\" fill=\"none\"/>\n",
              "    <path d=\"M18.56 5.44l.94 2.06.94-2.06 2.06-.94-2.06-.94-.94-2.06-.94 2.06-2.06.94zm-11 1L8.5 8.5l.94-2.06 2.06-.94-2.06-.94L8.5 2.5l-.94 2.06-2.06.94zm10 10l.94 2.06.94-2.06 2.06-.94-2.06-.94-.94-2.06-.94 2.06-2.06.94z\"/><path d=\"M17.41 7.96l-1.37-1.37c-.4-.4-.92-.59-1.43-.59-.52 0-1.04.2-1.43.59L10.3 9.45l-7.72 7.72c-.78.78-.78 2.05 0 2.83L4 21.41c.39.39.9.59 1.41.59.51 0 1.02-.2 1.41-.59l7.78-7.78 2.81-2.81c.8-.78.8-2.07 0-2.86zM5.41 20L4 18.59l7.72-7.72 1.47 1.35L5.41 20z\"/>\n",
              "  </svg>\n",
              "      </button>\n",
              "      \n",
              "  <style>\n",
              "    .colab-df-container {\n",
              "      display:flex;\n",
              "      flex-wrap:wrap;\n",
              "      gap: 12px;\n",
              "    }\n",
              "\n",
              "    .colab-df-convert {\n",
              "      background-color: #E8F0FE;\n",
              "      border: none;\n",
              "      border-radius: 50%;\n",
              "      cursor: pointer;\n",
              "      display: none;\n",
              "      fill: #1967D2;\n",
              "      height: 32px;\n",
              "      padding: 0 0 0 0;\n",
              "      width: 32px;\n",
              "    }\n",
              "\n",
              "    .colab-df-convert:hover {\n",
              "      background-color: #E2EBFA;\n",
              "      box-shadow: 0px 1px 2px rgba(60, 64, 67, 0.3), 0px 1px 3px 1px rgba(60, 64, 67, 0.15);\n",
              "      fill: #174EA6;\n",
              "    }\n",
              "\n",
              "    [theme=dark] .colab-df-convert {\n",
              "      background-color: #3B4455;\n",
              "      fill: #D2E3FC;\n",
              "    }\n",
              "\n",
              "    [theme=dark] .colab-df-convert:hover {\n",
              "      background-color: #434B5C;\n",
              "      box-shadow: 0px 1px 3px 1px rgba(0, 0, 0, 0.15);\n",
              "      filter: drop-shadow(0px 1px 2px rgba(0, 0, 0, 0.3));\n",
              "      fill: #FFFFFF;\n",
              "    }\n",
              "  </style>\n",
              "\n",
              "      <script>\n",
              "        const buttonEl =\n",
              "          document.querySelector('#df-968ddade-96c3-4775-947f-cc6be17f0385 button.colab-df-convert');\n",
              "        buttonEl.style.display =\n",
              "          google.colab.kernel.accessAllowed ? 'block' : 'none';\n",
              "\n",
              "        async function convertToInteractive(key) {\n",
              "          const element = document.querySelector('#df-968ddade-96c3-4775-947f-cc6be17f0385');\n",
              "          const dataTable =\n",
              "            await google.colab.kernel.invokeFunction('convertToInteractive',\n",
              "                                                     [key], {});\n",
              "          if (!dataTable) return;\n",
              "\n",
              "          const docLinkHtml = 'Like what you see? Visit the ' +\n",
              "            '<a target=\"_blank\" href=https://colab.research.google.com/notebooks/data_table.ipynb>data table notebook</a>'\n",
              "            + ' to learn more about interactive tables.';\n",
              "          element.innerHTML = '';\n",
              "          dataTable['output_type'] = 'display_data';\n",
              "          await google.colab.output.renderOutput(dataTable, element);\n",
              "          const docLink = document.createElement('div');\n",
              "          docLink.innerHTML = docLinkHtml;\n",
              "          element.appendChild(docLink);\n",
              "        }\n",
              "      </script>\n",
              "    </div>\n",
              "  </div>\n",
              "  "
            ]
          },
          "metadata": {},
          "execution_count": 173
        }
      ]
    },
    {
      "cell_type": "markdown",
      "source": [
        "- A value that cough my attention was 11 pregnacies, I will check this person's age to see if that was possible\n"
      ],
      "metadata": {
        "id": "9_a_jly9zJbu"
      }
    },
    {
      "cell_type": "code",
      "source": [
        "df_prego = df.loc[df['Num of pregnancies']>6]\n",
        "df_prego"
      ],
      "metadata": {
        "colab": {
          "base_uri": "https://localhost:8080/",
          "height": 508
        },
        "id": "pYmt1daUyUxD",
        "outputId": "8d10e0a9-b55e-4938-a247-ae99f09a6c32"
      },
      "execution_count": 174,
      "outputs": [
        {
          "output_type": "execute_result",
          "data": {
            "text/plain": [
              "     Age  Number of sexual partners  First sexual intercourse  \\\n",
              "17    43                        3.0                      15.0   \n",
              "100   34                        3.0                      15.0   \n",
              "263   23                        2.0                      14.0   \n",
              "337   48                        2.0                      16.0   \n",
              "480   30                        4.0                      13.0   \n",
              "588   45                        5.0                      15.0   \n",
              "668   84                        3.0                      20.0   \n",
              "679   50                        2.0                      17.0   \n",
              "682   70                        1.0                      16.0   \n",
              "740   40                        1.0                      20.0   \n",
              "\n",
              "     Num of pregnancies  Smokes  Smokes (years)  Smokes (packs/year)  \\\n",
              "17                  8.0     0.0        0.000000             0.000000   \n",
              "100                 7.0     0.0        0.000000             0.000000   \n",
              "263                 7.0     1.0        1.266973             0.513202   \n",
              "337                 7.0     1.0       32.000000             8.000000   \n",
              "480                 8.0     0.0        0.000000             0.000000   \n",
              "588                 7.0     0.0        0.000000             0.000000   \n",
              "668                11.0     1.0       24.000000             0.513202   \n",
              "679                 7.0     0.0        0.000000             0.000000   \n",
              "682                10.0     0.0        0.000000             0.000000   \n",
              "740                 7.0     0.0        0.000000             0.000000   \n",
              "\n",
              "     Hormonal Contraceptives  Hormonal Contraceptives (years)  IUD  ...  \\\n",
              "17                       1.0                             3.00  0.0  ...   \n",
              "100                      1.0                             0.08  0.0  ...   \n",
              "263                      NaN                              NaN  NaN  ...   \n",
              "337                      1.0                             7.00  0.0  ...   \n",
              "480                      NaN                              NaN  NaN  ...   \n",
              "588                      1.0                             0.66  0.0  ...   \n",
              "668                      0.0                             0.00  0.0  ...   \n",
              "679                      1.0                             5.00  0.0  ...   \n",
              "682                      0.0                             0.00  1.0  ...   \n",
              "740                      0.0                             0.00  0.0  ...   \n",
              "\n",
              "     STDs:HPV  STDs: Number of diagnosis  Dx:Cancer  Dx:CIN  Dx:HPV  Dx  \\\n",
              "17        0.0                          0          0       0       0   0   \n",
              "100       0.0                          0          0       0       0   0   \n",
              "263       NaN                          0          0       0       0   0   \n",
              "337       0.0                          0          0       0       0   0   \n",
              "480       0.0                          0          0       0       0   0   \n",
              "588       0.0                          0          0       0       0   0   \n",
              "668       0.0                          0          0       0       0   0   \n",
              "679       0.0                          0          0       0       0   0   \n",
              "682       0.0                          0          0       0       0   0   \n",
              "740       0.0                          0          0       0       0   0   \n",
              "\n",
              "     Hinselmann  Schiller  Citology  Biopsy  \n",
              "17            0         0         0       0  \n",
              "100           0         0         0       0  \n",
              "263           0         0         0       0  \n",
              "337           0         0         0       0  \n",
              "480           0         0         0       0  \n",
              "588           0         0         0       0  \n",
              "668           0         1         0       0  \n",
              "679           0         0         0       0  \n",
              "682           0         0         0       0  \n",
              "740           0         0         0       0  \n",
              "\n",
              "[10 rows x 34 columns]"
            ],
            "text/html": [
              "\n",
              "  <div id=\"df-20cb1b45-fb94-4b72-848a-f221f17562c5\">\n",
              "    <div class=\"colab-df-container\">\n",
              "      <div>\n",
              "<style scoped>\n",
              "    .dataframe tbody tr th:only-of-type {\n",
              "        vertical-align: middle;\n",
              "    }\n",
              "\n",
              "    .dataframe tbody tr th {\n",
              "        vertical-align: top;\n",
              "    }\n",
              "\n",
              "    .dataframe thead th {\n",
              "        text-align: right;\n",
              "    }\n",
              "</style>\n",
              "<table border=\"1\" class=\"dataframe\">\n",
              "  <thead>\n",
              "    <tr style=\"text-align: right;\">\n",
              "      <th></th>\n",
              "      <th>Age</th>\n",
              "      <th>Number of sexual partners</th>\n",
              "      <th>First sexual intercourse</th>\n",
              "      <th>Num of pregnancies</th>\n",
              "      <th>Smokes</th>\n",
              "      <th>Smokes (years)</th>\n",
              "      <th>Smokes (packs/year)</th>\n",
              "      <th>Hormonal Contraceptives</th>\n",
              "      <th>Hormonal Contraceptives (years)</th>\n",
              "      <th>IUD</th>\n",
              "      <th>...</th>\n",
              "      <th>STDs:HPV</th>\n",
              "      <th>STDs: Number of diagnosis</th>\n",
              "      <th>Dx:Cancer</th>\n",
              "      <th>Dx:CIN</th>\n",
              "      <th>Dx:HPV</th>\n",
              "      <th>Dx</th>\n",
              "      <th>Hinselmann</th>\n",
              "      <th>Schiller</th>\n",
              "      <th>Citology</th>\n",
              "      <th>Biopsy</th>\n",
              "    </tr>\n",
              "  </thead>\n",
              "  <tbody>\n",
              "    <tr>\n",
              "      <th>17</th>\n",
              "      <td>43</td>\n",
              "      <td>3.0</td>\n",
              "      <td>15.0</td>\n",
              "      <td>8.0</td>\n",
              "      <td>0.0</td>\n",
              "      <td>0.000000</td>\n",
              "      <td>0.000000</td>\n",
              "      <td>1.0</td>\n",
              "      <td>3.00</td>\n",
              "      <td>0.0</td>\n",
              "      <td>...</td>\n",
              "      <td>0.0</td>\n",
              "      <td>0</td>\n",
              "      <td>0</td>\n",
              "      <td>0</td>\n",
              "      <td>0</td>\n",
              "      <td>0</td>\n",
              "      <td>0</td>\n",
              "      <td>0</td>\n",
              "      <td>0</td>\n",
              "      <td>0</td>\n",
              "    </tr>\n",
              "    <tr>\n",
              "      <th>100</th>\n",
              "      <td>34</td>\n",
              "      <td>3.0</td>\n",
              "      <td>15.0</td>\n",
              "      <td>7.0</td>\n",
              "      <td>0.0</td>\n",
              "      <td>0.000000</td>\n",
              "      <td>0.000000</td>\n",
              "      <td>1.0</td>\n",
              "      <td>0.08</td>\n",
              "      <td>0.0</td>\n",
              "      <td>...</td>\n",
              "      <td>0.0</td>\n",
              "      <td>0</td>\n",
              "      <td>0</td>\n",
              "      <td>0</td>\n",
              "      <td>0</td>\n",
              "      <td>0</td>\n",
              "      <td>0</td>\n",
              "      <td>0</td>\n",
              "      <td>0</td>\n",
              "      <td>0</td>\n",
              "    </tr>\n",
              "    <tr>\n",
              "      <th>263</th>\n",
              "      <td>23</td>\n",
              "      <td>2.0</td>\n",
              "      <td>14.0</td>\n",
              "      <td>7.0</td>\n",
              "      <td>1.0</td>\n",
              "      <td>1.266973</td>\n",
              "      <td>0.513202</td>\n",
              "      <td>NaN</td>\n",
              "      <td>NaN</td>\n",
              "      <td>NaN</td>\n",
              "      <td>...</td>\n",
              "      <td>NaN</td>\n",
              "      <td>0</td>\n",
              "      <td>0</td>\n",
              "      <td>0</td>\n",
              "      <td>0</td>\n",
              "      <td>0</td>\n",
              "      <td>0</td>\n",
              "      <td>0</td>\n",
              "      <td>0</td>\n",
              "      <td>0</td>\n",
              "    </tr>\n",
              "    <tr>\n",
              "      <th>337</th>\n",
              "      <td>48</td>\n",
              "      <td>2.0</td>\n",
              "      <td>16.0</td>\n",
              "      <td>7.0</td>\n",
              "      <td>1.0</td>\n",
              "      <td>32.000000</td>\n",
              "      <td>8.000000</td>\n",
              "      <td>1.0</td>\n",
              "      <td>7.00</td>\n",
              "      <td>0.0</td>\n",
              "      <td>...</td>\n",
              "      <td>0.0</td>\n",
              "      <td>0</td>\n",
              "      <td>0</td>\n",
              "      <td>0</td>\n",
              "      <td>0</td>\n",
              "      <td>0</td>\n",
              "      <td>0</td>\n",
              "      <td>0</td>\n",
              "      <td>0</td>\n",
              "      <td>0</td>\n",
              "    </tr>\n",
              "    <tr>\n",
              "      <th>480</th>\n",
              "      <td>30</td>\n",
              "      <td>4.0</td>\n",
              "      <td>13.0</td>\n",
              "      <td>8.0</td>\n",
              "      <td>0.0</td>\n",
              "      <td>0.000000</td>\n",
              "      <td>0.000000</td>\n",
              "      <td>NaN</td>\n",
              "      <td>NaN</td>\n",
              "      <td>NaN</td>\n",
              "      <td>...</td>\n",
              "      <td>0.0</td>\n",
              "      <td>0</td>\n",
              "      <td>0</td>\n",
              "      <td>0</td>\n",
              "      <td>0</td>\n",
              "      <td>0</td>\n",
              "      <td>0</td>\n",
              "      <td>0</td>\n",
              "      <td>0</td>\n",
              "      <td>0</td>\n",
              "    </tr>\n",
              "    <tr>\n",
              "      <th>588</th>\n",
              "      <td>45</td>\n",
              "      <td>5.0</td>\n",
              "      <td>15.0</td>\n",
              "      <td>7.0</td>\n",
              "      <td>0.0</td>\n",
              "      <td>0.000000</td>\n",
              "      <td>0.000000</td>\n",
              "      <td>1.0</td>\n",
              "      <td>0.66</td>\n",
              "      <td>0.0</td>\n",
              "      <td>...</td>\n",
              "      <td>0.0</td>\n",
              "      <td>0</td>\n",
              "      <td>0</td>\n",
              "      <td>0</td>\n",
              "      <td>0</td>\n",
              "      <td>0</td>\n",
              "      <td>0</td>\n",
              "      <td>0</td>\n",
              "      <td>0</td>\n",
              "      <td>0</td>\n",
              "    </tr>\n",
              "    <tr>\n",
              "      <th>668</th>\n",
              "      <td>84</td>\n",
              "      <td>3.0</td>\n",
              "      <td>20.0</td>\n",
              "      <td>11.0</td>\n",
              "      <td>1.0</td>\n",
              "      <td>24.000000</td>\n",
              "      <td>0.513202</td>\n",
              "      <td>0.0</td>\n",
              "      <td>0.00</td>\n",
              "      <td>0.0</td>\n",
              "      <td>...</td>\n",
              "      <td>0.0</td>\n",
              "      <td>0</td>\n",
              "      <td>0</td>\n",
              "      <td>0</td>\n",
              "      <td>0</td>\n",
              "      <td>0</td>\n",
              "      <td>0</td>\n",
              "      <td>1</td>\n",
              "      <td>0</td>\n",
              "      <td>0</td>\n",
              "    </tr>\n",
              "    <tr>\n",
              "      <th>679</th>\n",
              "      <td>50</td>\n",
              "      <td>2.0</td>\n",
              "      <td>17.0</td>\n",
              "      <td>7.0</td>\n",
              "      <td>0.0</td>\n",
              "      <td>0.000000</td>\n",
              "      <td>0.000000</td>\n",
              "      <td>1.0</td>\n",
              "      <td>5.00</td>\n",
              "      <td>0.0</td>\n",
              "      <td>...</td>\n",
              "      <td>0.0</td>\n",
              "      <td>0</td>\n",
              "      <td>0</td>\n",
              "      <td>0</td>\n",
              "      <td>0</td>\n",
              "      <td>0</td>\n",
              "      <td>0</td>\n",
              "      <td>0</td>\n",
              "      <td>0</td>\n",
              "      <td>0</td>\n",
              "    </tr>\n",
              "    <tr>\n",
              "      <th>682</th>\n",
              "      <td>70</td>\n",
              "      <td>1.0</td>\n",
              "      <td>16.0</td>\n",
              "      <td>10.0</td>\n",
              "      <td>0.0</td>\n",
              "      <td>0.000000</td>\n",
              "      <td>0.000000</td>\n",
              "      <td>0.0</td>\n",
              "      <td>0.00</td>\n",
              "      <td>1.0</td>\n",
              "      <td>...</td>\n",
              "      <td>0.0</td>\n",
              "      <td>0</td>\n",
              "      <td>0</td>\n",
              "      <td>0</td>\n",
              "      <td>0</td>\n",
              "      <td>0</td>\n",
              "      <td>0</td>\n",
              "      <td>0</td>\n",
              "      <td>0</td>\n",
              "      <td>0</td>\n",
              "    </tr>\n",
              "    <tr>\n",
              "      <th>740</th>\n",
              "      <td>40</td>\n",
              "      <td>1.0</td>\n",
              "      <td>20.0</td>\n",
              "      <td>7.0</td>\n",
              "      <td>0.0</td>\n",
              "      <td>0.000000</td>\n",
              "      <td>0.000000</td>\n",
              "      <td>0.0</td>\n",
              "      <td>0.00</td>\n",
              "      <td>0.0</td>\n",
              "      <td>...</td>\n",
              "      <td>0.0</td>\n",
              "      <td>0</td>\n",
              "      <td>0</td>\n",
              "      <td>0</td>\n",
              "      <td>0</td>\n",
              "      <td>0</td>\n",
              "      <td>0</td>\n",
              "      <td>0</td>\n",
              "      <td>0</td>\n",
              "      <td>0</td>\n",
              "    </tr>\n",
              "  </tbody>\n",
              "</table>\n",
              "<p>10 rows × 34 columns</p>\n",
              "</div>\n",
              "      <button class=\"colab-df-convert\" onclick=\"convertToInteractive('df-20cb1b45-fb94-4b72-848a-f221f17562c5')\"\n",
              "              title=\"Convert this dataframe to an interactive table.\"\n",
              "              style=\"display:none;\">\n",
              "        \n",
              "  <svg xmlns=\"http://www.w3.org/2000/svg\" height=\"24px\"viewBox=\"0 0 24 24\"\n",
              "       width=\"24px\">\n",
              "    <path d=\"M0 0h24v24H0V0z\" fill=\"none\"/>\n",
              "    <path d=\"M18.56 5.44l.94 2.06.94-2.06 2.06-.94-2.06-.94-.94-2.06-.94 2.06-2.06.94zm-11 1L8.5 8.5l.94-2.06 2.06-.94-2.06-.94L8.5 2.5l-.94 2.06-2.06.94zm10 10l.94 2.06.94-2.06 2.06-.94-2.06-.94-.94-2.06-.94 2.06-2.06.94z\"/><path d=\"M17.41 7.96l-1.37-1.37c-.4-.4-.92-.59-1.43-.59-.52 0-1.04.2-1.43.59L10.3 9.45l-7.72 7.72c-.78.78-.78 2.05 0 2.83L4 21.41c.39.39.9.59 1.41.59.51 0 1.02-.2 1.41-.59l7.78-7.78 2.81-2.81c.8-.78.8-2.07 0-2.86zM5.41 20L4 18.59l7.72-7.72 1.47 1.35L5.41 20z\"/>\n",
              "  </svg>\n",
              "      </button>\n",
              "      \n",
              "  <style>\n",
              "    .colab-df-container {\n",
              "      display:flex;\n",
              "      flex-wrap:wrap;\n",
              "      gap: 12px;\n",
              "    }\n",
              "\n",
              "    .colab-df-convert {\n",
              "      background-color: #E8F0FE;\n",
              "      border: none;\n",
              "      border-radius: 50%;\n",
              "      cursor: pointer;\n",
              "      display: none;\n",
              "      fill: #1967D2;\n",
              "      height: 32px;\n",
              "      padding: 0 0 0 0;\n",
              "      width: 32px;\n",
              "    }\n",
              "\n",
              "    .colab-df-convert:hover {\n",
              "      background-color: #E2EBFA;\n",
              "      box-shadow: 0px 1px 2px rgba(60, 64, 67, 0.3), 0px 1px 3px 1px rgba(60, 64, 67, 0.15);\n",
              "      fill: #174EA6;\n",
              "    }\n",
              "\n",
              "    [theme=dark] .colab-df-convert {\n",
              "      background-color: #3B4455;\n",
              "      fill: #D2E3FC;\n",
              "    }\n",
              "\n",
              "    [theme=dark] .colab-df-convert:hover {\n",
              "      background-color: #434B5C;\n",
              "      box-shadow: 0px 1px 3px 1px rgba(0, 0, 0, 0.15);\n",
              "      filter: drop-shadow(0px 1px 2px rgba(0, 0, 0, 0.3));\n",
              "      fill: #FFFFFF;\n",
              "    }\n",
              "  </style>\n",
              "\n",
              "      <script>\n",
              "        const buttonEl =\n",
              "          document.querySelector('#df-20cb1b45-fb94-4b72-848a-f221f17562c5 button.colab-df-convert');\n",
              "        buttonEl.style.display =\n",
              "          google.colab.kernel.accessAllowed ? 'block' : 'none';\n",
              "\n",
              "        async function convertToInteractive(key) {\n",
              "          const element = document.querySelector('#df-20cb1b45-fb94-4b72-848a-f221f17562c5');\n",
              "          const dataTable =\n",
              "            await google.colab.kernel.invokeFunction('convertToInteractive',\n",
              "                                                     [key], {});\n",
              "          if (!dataTable) return;\n",
              "\n",
              "          const docLinkHtml = 'Like what you see? Visit the ' +\n",
              "            '<a target=\"_blank\" href=https://colab.research.google.com/notebooks/data_table.ipynb>data table notebook</a>'\n",
              "            + ' to learn more about interactive tables.';\n",
              "          element.innerHTML = '';\n",
              "          dataTable['output_type'] = 'display_data';\n",
              "          await google.colab.output.renderOutput(dataTable, element);\n",
              "          const docLink = document.createElement('div');\n",
              "          docLink.innerHTML = docLinkHtml;\n",
              "          element.appendChild(docLink);\n",
              "        }\n",
              "      </script>\n",
              "    </div>\n",
              "  </div>\n",
              "  "
            ]
          },
          "metadata": {},
          "execution_count": 174
        }
      ]
    },
    {
      "cell_type": "markdown",
      "source": [
        "- Copying data for ML vs EDA"
      ],
      "metadata": {
        "id": "Qr2uNfw87SUr"
      }
    },
    {
      "cell_type": "markdown",
      "source": [
        "### Part 2"
      ],
      "metadata": {
        "id": "J21FnKLFTzf5"
      }
    },
    {
      "cell_type": "code",
      "source": [
        "df_ml =  df.copy()"
      ],
      "metadata": {
        "id": "vmKtaVN67akP"
      },
      "execution_count": 175,
      "outputs": []
    },
    {
      "cell_type": "markdown",
      "source": [
        "- I will use mode ( most frequenty) to handle the missing values, but I want to use the whole dataset for EDA, that is why I'm making a copy of it, because in ML I will only input the missing values on the training data"
      ],
      "metadata": {
        "id": "lmWP9vvN7mHJ"
      }
    },
    {
      "cell_type": "code",
      "source": [
        "for col in df.columns:\n",
        "  df[col].fillna(df[col].mode()[0], inplace=True)\n",
        "df.info()"
      ],
      "metadata": {
        "colab": {
          "base_uri": "https://localhost:8080/"
        },
        "id": "O6w4g9mI_-M7",
        "outputId": "9cc87ccf-26d5-4933-ebe1-241e1e75435f"
      },
      "execution_count": 176,
      "outputs": [
        {
          "output_type": "stream",
          "name": "stdout",
          "text": [
            "<class 'pandas.core.frame.DataFrame'>\n",
            "Int64Index: 835 entries, 0 to 857\n",
            "Data columns (total 34 columns):\n",
            " #   Column                              Non-Null Count  Dtype  \n",
            "---  ------                              --------------  -----  \n",
            " 0   Age                                 835 non-null    int64  \n",
            " 1   Number of sexual partners           835 non-null    float64\n",
            " 2   First sexual intercourse            835 non-null    float64\n",
            " 3   Num of pregnancies                  835 non-null    float64\n",
            " 4   Smokes                              835 non-null    float64\n",
            " 5   Smokes (years)                      835 non-null    float64\n",
            " 6   Smokes (packs/year)                 835 non-null    float64\n",
            " 7   Hormonal Contraceptives             835 non-null    float64\n",
            " 8   Hormonal Contraceptives (years)     835 non-null    float64\n",
            " 9   IUD                                 835 non-null    float64\n",
            " 10  IUD (years)                         835 non-null    float64\n",
            " 11  STDs                                835 non-null    float64\n",
            " 12  STDs (number)                       835 non-null    float64\n",
            " 13  STDs:condylomatosis                 835 non-null    float64\n",
            " 14  STDs:cervical condylomatosis        835 non-null    float64\n",
            " 15  STDs:vaginal condylomatosis         835 non-null    float64\n",
            " 16  STDs:vulvo-perineal condylomatosis  835 non-null    float64\n",
            " 17  STDs:syphilis                       835 non-null    float64\n",
            " 18  STDs:pelvic inflammatory disease    835 non-null    float64\n",
            " 19  STDs:genital herpes                 835 non-null    float64\n",
            " 20  STDs:molluscum contagiosum          835 non-null    float64\n",
            " 21  STDs:AIDS                           835 non-null    float64\n",
            " 22  STDs:HIV                            835 non-null    float64\n",
            " 23  STDs:Hepatitis B                    835 non-null    float64\n",
            " 24  STDs:HPV                            835 non-null    float64\n",
            " 25  STDs: Number of diagnosis           835 non-null    int64  \n",
            " 26  Dx:Cancer                           835 non-null    int64  \n",
            " 27  Dx:CIN                              835 non-null    int64  \n",
            " 28  Dx:HPV                              835 non-null    int64  \n",
            " 29  Dx                                  835 non-null    int64  \n",
            " 30  Hinselmann                          835 non-null    int64  \n",
            " 31  Schiller                            835 non-null    int64  \n",
            " 32  Citology                            835 non-null    int64  \n",
            " 33  Biopsy                              835 non-null    int64  \n",
            "dtypes: float64(24), int64(10)\n",
            "memory usage: 228.3 KB\n"
          ]
        }
      ]
    },
    {
      "cell_type": "markdown",
      "source": [
        "- Univariate visuals "
      ],
      "metadata": {
        "id": "7qu6mp2u8Mij"
      }
    },
    {
      "cell_type": "markdown",
      "source": [
        "-  This dataset has some of its features already \"encoded\", so I will create a univariate visual for the first 4 columns to understand a little more about our data, instead of creating it for all of the features"
      ],
      "metadata": {
        "id": "kkWNnBsJI-bG"
      }
    },
    {
      "cell_type": "code",
      "source": [
        "df1_variable = df.iloc[: , :4]\n",
        "df1_variable.columns"
      ],
      "metadata": {
        "colab": {
          "base_uri": "https://localhost:8080/"
        },
        "id": "kHIp2V9V8L0i",
        "outputId": "0f347f69-1b8f-4c11-d18d-dbfda03eaad7"
      },
      "execution_count": 177,
      "outputs": [
        {
          "output_type": "execute_result",
          "data": {
            "text/plain": [
              "Index(['Age', 'Number of sexual partners', 'First sexual intercourse',\n",
              "       'Num of pregnancies'],\n",
              "      dtype='object')"
            ]
          },
          "metadata": {},
          "execution_count": 177
        }
      ]
    },
    {
      "cell_type": "code",
      "source": [
        "fig, axes = plt.subplots(2,2, figsize = (12, 8))\n",
        "plt.subplots_adjust(wspace=0.2, hspace=0.2,  bottom=0.1,  top=1)\n",
        "axes = axes.ravel() # https://numpy.org/doc/stable/reference/generated/numpy.ravel.html\n",
        "\n",
        "for i, col in enumerate(df1_variable.columns):\n",
        "  sns.boxplot(y=col ,  data=df1_variable,  orient='v' , ax=axes[i])\n"
      ],
      "metadata": {
        "colab": {
          "base_uri": "https://localhost:8080/",
          "height": 549
        },
        "id": "My6QbIl58Kmg",
        "outputId": "783fcdd7-6817-47c7-ba99-4cf2ce242841"
      },
      "execution_count": 178,
      "outputs": [
        {
          "output_type": "display_data",
          "data": {
            "text/plain": [
              "<Figure size 864x576 with 4 Axes>"
            ],
            "image/png": "[encoded data removed]"
          },
          "metadata": {}
        }
      ]
    },
    {
      "cell_type": "markdown",
      "source": [
        "### Part 3"
      ],
      "metadata": {
        "id": "pb3xyARiG_fc"
      }
    },
    {
      "cell_type": "markdown",
      "source": [
        "\n",
        "\n",
        "---\n",
        "\n",
        "\n",
        "\n",
        "---\n",
        "\n"
      ],
      "metadata": {
        "id": "J4hLterOitbt"
      }
    },
    {
      "cell_type": "markdown",
      "source": [
        "**3.1** For this part of the project, I will continue my EDA by:\n",
        "- Identifying any moderate or strong correlations between my target and my features and/or between one feature and another\n",
        "- Creating multivariate exploratory visuals to further understand my data\n",
        "\n",
        "**Note: CC = Cervical Cancer**"
      ],
      "metadata": {
        "id": "991q0dPXG3kI"
      }
    },
    {
      "cell_type": "markdown",
      "source": [
        "- Correlation"
      ],
      "metadata": {
        "id": "-ktAspHtLg66"
      }
    },
    {
      "cell_type": "code",
      "source": [
        "corr = df.corr()"
      ],
      "metadata": {
        "id": "sFhUgTwwGpN4"
      },
      "execution_count": 179,
      "outputs": []
    },
    {
      "cell_type": "code",
      "source": [
        "res = corr.loc[abs(corr['Biopsy'])>0.1]\n",
        "res.sort_values(by='Biopsy', ascending=False)"
      ],
      "metadata": {
        "colab": {
          "base_uri": "https://localhost:8080/",
          "height": 606
        },
        "id": "OFO7mHuPMHBa",
        "outputId": "df2b8428-555e-4c98-daf1-4b24cda7a86f"
      },
      "execution_count": 180,
      "outputs": [
        {
          "output_type": "execute_result",
          "data": {
            "text/plain": [
              "                          Age  Number of sexual partners  \\\n",
              "Biopsy               0.054396                  -0.008566   \n",
              "Schiller             0.101150                  -0.015592   \n",
              "Hinselmann          -0.009050                  -0.042430   \n",
              "Citology            -0.019194                   0.016327   \n",
              "Dx:HPV               0.099765                   0.026758   \n",
              "Dx:Cancer            0.108519                   0.021770   \n",
              "Dx                   0.089979                   0.022340   \n",
              "STDs:genital herpes -0.028689                  -0.032161   \n",
              "STDs:HIV             0.001526                   0.016782   \n",
              "STDs                 0.017910                   0.051262   \n",
              "Dx:CIN               0.059899                   0.015310   \n",
              "STDs (number)       -0.008484                   0.037583   \n",
              "\n",
              "                     First sexual intercourse  Num of pregnancies    Smokes  \\\n",
              "Biopsy                               0.010063            0.027998  0.028104   \n",
              "Schiller                             0.005641            0.076933  0.050805   \n",
              "Hinselmann                          -0.017284            0.030710  0.031099   \n",
              "Citology                            -0.008013           -0.019987 -0.005109   \n",
              "Dx:HPV                               0.043836            0.052006  0.008109   \n",
              "Dx:Cancer                            0.067317            0.040574 -0.015159   \n",
              "Dx                                   0.035497           -0.005974 -0.071500   \n",
              "STDs:genital herpes                  0.024606           -0.029206 -0.014392   \n",
              "STDs:HIV                            -0.008995            0.011994  0.054643   \n",
              "STDs                                -0.003326            0.050703  0.108101   \n",
              "Dx:CIN                              -0.033159           -0.039803 -0.043385   \n",
              "STDs (number)                        0.015528            0.008009  0.097156   \n",
              "\n",
              "                     Smokes (years)  Smokes (packs/year)  \\\n",
              "Biopsy                     0.061168             0.024261   \n",
              "Schiller                   0.093039             0.016484   \n",
              "Hinselmann                 0.068794             0.024967   \n",
              "Citology                  -0.007661             0.004103   \n",
              "Dx:HPV                     0.054286             0.108397   \n",
              "Dx:Cancer                  0.051743             0.106506   \n",
              "Dx                        -0.051679            -0.035248   \n",
              "STDs:genital herpes       -0.010402            -0.007095   \n",
              "STDs:HIV                   0.087869             0.053226   \n",
              "STDs                       0.086930             0.027534   \n",
              "Dx:CIN                    -0.031358            -0.021388   \n",
              "STDs (number)              0.086424             0.028667   \n",
              "\n",
              "                     Hormonal Contraceptives  Hormonal Contraceptives (years)  \\\n",
              "Biopsy                             -0.015954                         0.098561   \n",
              "Schiller                           -0.034122                         0.100774   \n",
              "Hinselmann                          0.008935                         0.051845   \n",
              "Citology                           -0.021981                         0.085732   \n",
              "Dx:HPV                              0.026803                         0.064905   \n",
              "Dx:Cancer                           0.008898                         0.063383   \n",
              "Dx                                 -0.010437                        -0.010292   \n",
              "STDs:genital herpes                 0.022960                        -0.016874   \n",
              "STDs:HIV                           -0.080623                        -0.037118   \n",
              "STDs                               -0.052189                         0.002820   \n",
              "Dx:CIN                             -0.006333                         0.002653   \n",
              "STDs (number)                      -0.060083                        -0.001555   \n",
              "\n",
              "                          IUD  ...  STDs:HPV  STDs: Number of diagnosis  \\\n",
              "Biopsy               0.059116  ... -0.012884                   0.097813   \n",
              "Schiller             0.095565  ... -0.015166                   0.130780   \n",
              "Hinselmann           0.050353  ... -0.010249                   0.075276   \n",
              "Citology             0.013144  ... -0.011417                   0.055537   \n",
              "Dx:HPV               0.060931  ...  0.330117                  -0.016613   \n",
              "Dx:Cancer            0.116052  ...  0.330117                  -0.016613   \n",
              "Dx                   0.134500  ...  0.138204                  -0.003645   \n",
              "STDs:genital herpes -0.011504  ... -0.001697                   0.102946   \n",
              "STDs:HIV             0.005809  ... -0.007273                   0.549022   \n",
              "STDs                 0.056719  ...  0.151579                   0.907582   \n",
              "Dx:CIN               0.042849  ... -0.005115                   0.007259   \n",
              "STDs (number)        0.058105  ...  0.076868                   0.898208   \n",
              "\n",
              "                     Dx:Cancer    Dx:CIN    Dx:HPV        Dx  Hinselmann  \\\n",
              "Biopsy                0.162142  0.114026  0.162142  0.158773    0.552471   \n",
              "Schiller              0.158419  0.008753  0.158419  0.099014    0.654622   \n",
              "Hinselmann            0.133550 -0.021833  0.133550  0.071321    1.000000   \n",
              "Citology              0.114660 -0.024322  0.114660  0.089644    0.194625   \n",
              "Dx:HPV                0.886441 -0.015494  1.000000  0.616069    0.133550   \n",
              "Dx:Cancer             1.000000 -0.015494  0.886441  0.665423    0.133550   \n",
              "Dx                    0.665423  0.606787  0.616069  1.000000    0.071321   \n",
              "STDs:genital herpes  -0.005140 -0.003614 -0.005140 -0.005957   -0.007243   \n",
              "STDs:HIV             -0.022032  0.064366 -0.022032  0.023820    0.092401   \n",
              "STDs                  0.008368  0.005885  0.008368 -0.006629    0.054899   \n",
              "Dx:CIN               -0.015494  1.000000 -0.015494  0.606787   -0.021833   \n",
              "STDs (number)        -0.013342 -0.009382 -0.013342 -0.024379    0.071649   \n",
              "\n",
              "                     Schiller  Citology    Biopsy  \n",
              "Biopsy               0.728870  0.313286  1.000000  \n",
              "Schiller             1.000000  0.349939  0.728870  \n",
              "Hinselmann           0.654622  0.194625  0.552471  \n",
              "Citology             0.349939  1.000000  0.313286  \n",
              "Dx:HPV               0.158419  0.114660  0.162142  \n",
              "Dx:Cancer            0.158419  0.114660  0.162142  \n",
              "Dx                   0.099014  0.089644  0.158773  \n",
              "STDs:genital herpes -0.010718 -0.008068  0.131688  \n",
              "STDs:HIV             0.129225  0.077349  0.128614  \n",
              "STDs                 0.117248  0.054280  0.114650  \n",
              "Dx:CIN               0.008753 -0.024322  0.114026  \n",
              "STDs (number)        0.129533  0.062194  0.103572  \n",
              "\n",
              "[12 rows x 34 columns]"
            ],
            "text/html": [
              "\n",
              "  <div id=\"df-ad314264-553d-45c6-aa04-06dc7fc72e9e\">\n",
              "    <div class=\"colab-df-container\">\n",
              "      <div>\n",
              "<style scoped>\n",
              "    .dataframe tbody tr th:only-of-type {\n",
              "        vertical-align: middle;\n",
              "    }\n",
              "\n",
              "    .dataframe tbody tr th {\n",
              "        vertical-align: top;\n",
              "    }\n",
              "\n",
              "    .dataframe thead th {\n",
              "        text-align: right;\n",
              "    }\n",
              "</style>\n",
              "<table border=\"1\" class=\"dataframe\">\n",
              "  <thead>\n",
              "    <tr style=\"text-align: right;\">\n",
              "      <th></th>\n",
              "      <th>Age</th>\n",
              "      <th>Number of sexual partners</th>\n",
              "      <th>First sexual intercourse</th>\n",
              "      <th>Num of pregnancies</th>\n",
              "      <th>Smokes</th>\n",
              "      <th>Smokes (years)</th>\n",
              "      <th>Smokes (packs/year)</th>\n",
              "      <th>Hormonal Contraceptives</th>\n",
              "      <th>Hormonal Contraceptives (years)</th>\n",
              "      <th>IUD</th>\n",
              "      <th>...</th>\n",
              "      <th>STDs:HPV</th>\n",
              "      <th>STDs: Number of diagnosis</th>\n",
              "      <th>Dx:Cancer</th>\n",
              "      <th>Dx:CIN</th>\n",
              "      <th>Dx:HPV</th>\n",
              "      <th>Dx</th>\n",
              "      <th>Hinselmann</th>\n",
              "      <th>Schiller</th>\n",
              "      <th>Citology</th>\n",
              "      <th>Biopsy</th>\n",
              "    </tr>\n",
              "  </thead>\n",
              "  <tbody>\n",
              "    <tr>\n",
              "      <th>Biopsy</th>\n",
              "      <td>0.054396</td>\n",
              "      <td>-0.008566</td>\n",
              "      <td>0.010063</td>\n",
              "      <td>0.027998</td>\n",
              "      <td>0.028104</td>\n",
              "      <td>0.061168</td>\n",
              "      <td>0.024261</td>\n",
              "      <td>-0.015954</td>\n",
              "      <td>0.098561</td>\n",
              "      <td>0.059116</td>\n",
              "      <td>...</td>\n",
              "      <td>-0.012884</td>\n",
              "      <td>0.097813</td>\n",
              "      <td>0.162142</td>\n",
              "      <td>0.114026</td>\n",
              "      <td>0.162142</td>\n",
              "      <td>0.158773</td>\n",
              "      <td>0.552471</td>\n",
              "      <td>0.728870</td>\n",
              "      <td>0.313286</td>\n",
              "      <td>1.000000</td>\n",
              "    </tr>\n",
              "    <tr>\n",
              "      <th>Schiller</th>\n",
              "      <td>0.101150</td>\n",
              "      <td>-0.015592</td>\n",
              "      <td>0.005641</td>\n",
              "      <td>0.076933</td>\n",
              "      <td>0.050805</td>\n",
              "      <td>0.093039</td>\n",
              "      <td>0.016484</td>\n",
              "      <td>-0.034122</td>\n",
              "      <td>0.100774</td>\n",
              "      <td>0.095565</td>\n",
              "      <td>...</td>\n",
              "      <td>-0.015166</td>\n",
              "      <td>0.130780</td>\n",
              "      <td>0.158419</td>\n",
              "      <td>0.008753</td>\n",
              "      <td>0.158419</td>\n",
              "      <td>0.099014</td>\n",
              "      <td>0.654622</td>\n",
              "      <td>1.000000</td>\n",
              "      <td>0.349939</td>\n",
              "      <td>0.728870</td>\n",
              "    </tr>\n",
              "    <tr>\n",
              "      <th>Hinselmann</th>\n",
              "      <td>-0.009050</td>\n",
              "      <td>-0.042430</td>\n",
              "      <td>-0.017284</td>\n",
              "      <td>0.030710</td>\n",
              "      <td>0.031099</td>\n",
              "      <td>0.068794</td>\n",
              "      <td>0.024967</td>\n",
              "      <td>0.008935</td>\n",
              "      <td>0.051845</td>\n",
              "      <td>0.050353</td>\n",
              "      <td>...</td>\n",
              "      <td>-0.010249</td>\n",
              "      <td>0.075276</td>\n",
              "      <td>0.133550</td>\n",
              "      <td>-0.021833</td>\n",
              "      <td>0.133550</td>\n",
              "      <td>0.071321</td>\n",
              "      <td>1.000000</td>\n",
              "      <td>0.654622</td>\n",
              "      <td>0.194625</td>\n",
              "      <td>0.552471</td>\n",
              "    </tr>\n",
              "    <tr>\n",
              "      <th>Citology</th>\n",
              "      <td>-0.019194</td>\n",
              "      <td>0.016327</td>\n",
              "      <td>-0.008013</td>\n",
              "      <td>-0.019987</td>\n",
              "      <td>-0.005109</td>\n",
              "      <td>-0.007661</td>\n",
              "      <td>0.004103</td>\n",
              "      <td>-0.021981</td>\n",
              "      <td>0.085732</td>\n",
              "      <td>0.013144</td>\n",
              "      <td>...</td>\n",
              "      <td>-0.011417</td>\n",
              "      <td>0.055537</td>\n",
              "      <td>0.114660</td>\n",
              "      <td>-0.024322</td>\n",
              "      <td>0.114660</td>\n",
              "      <td>0.089644</td>\n",
              "      <td>0.194625</td>\n",
              "      <td>0.349939</td>\n",
              "      <td>1.000000</td>\n",
              "      <td>0.313286</td>\n",
              "    </tr>\n",
              "    <tr>\n",
              "      <th>Dx:HPV</th>\n",
              "      <td>0.099765</td>\n",
              "      <td>0.026758</td>\n",
              "      <td>0.043836</td>\n",
              "      <td>0.052006</td>\n",
              "      <td>0.008109</td>\n",
              "      <td>0.054286</td>\n",
              "      <td>0.108397</td>\n",
              "      <td>0.026803</td>\n",
              "      <td>0.064905</td>\n",
              "      <td>0.060931</td>\n",
              "      <td>...</td>\n",
              "      <td>0.330117</td>\n",
              "      <td>-0.016613</td>\n",
              "      <td>0.886441</td>\n",
              "      <td>-0.015494</td>\n",
              "      <td>1.000000</td>\n",
              "      <td>0.616069</td>\n",
              "      <td>0.133550</td>\n",
              "      <td>0.158419</td>\n",
              "      <td>0.114660</td>\n",
              "      <td>0.162142</td>\n",
              "    </tr>\n",
              "    <tr>\n",
              "      <th>Dx:Cancer</th>\n",
              "      <td>0.108519</td>\n",
              "      <td>0.021770</td>\n",
              "      <td>0.067317</td>\n",
              "      <td>0.040574</td>\n",
              "      <td>-0.015159</td>\n",
              "      <td>0.051743</td>\n",
              "      <td>0.106506</td>\n",
              "      <td>0.008898</td>\n",
              "      <td>0.063383</td>\n",
              "      <td>0.116052</td>\n",
              "      <td>...</td>\n",
              "      <td>0.330117</td>\n",
              "      <td>-0.016613</td>\n",
              "      <td>1.000000</td>\n",
              "      <td>-0.015494</td>\n",
              "      <td>0.886441</td>\n",
              "      <td>0.665423</td>\n",
              "      <td>0.133550</td>\n",
              "      <td>0.158419</td>\n",
              "      <td>0.114660</td>\n",
              "      <td>0.162142</td>\n",
              "    </tr>\n",
              "    <tr>\n",
              "      <th>Dx</th>\n",
              "      <td>0.089979</td>\n",
              "      <td>0.022340</td>\n",
              "      <td>0.035497</td>\n",
              "      <td>-0.005974</td>\n",
              "      <td>-0.071500</td>\n",
              "      <td>-0.051679</td>\n",
              "      <td>-0.035248</td>\n",
              "      <td>-0.010437</td>\n",
              "      <td>-0.010292</td>\n",
              "      <td>0.134500</td>\n",
              "      <td>...</td>\n",
              "      <td>0.138204</td>\n",
              "      <td>-0.003645</td>\n",
              "      <td>0.665423</td>\n",
              "      <td>0.606787</td>\n",
              "      <td>0.616069</td>\n",
              "      <td>1.000000</td>\n",
              "      <td>0.071321</td>\n",
              "      <td>0.099014</td>\n",
              "      <td>0.089644</td>\n",
              "      <td>0.158773</td>\n",
              "    </tr>\n",
              "    <tr>\n",
              "      <th>STDs:genital herpes</th>\n",
              "      <td>-0.028689</td>\n",
              "      <td>-0.032161</td>\n",
              "      <td>0.024606</td>\n",
              "      <td>-0.029206</td>\n",
              "      <td>-0.014392</td>\n",
              "      <td>-0.010402</td>\n",
              "      <td>-0.007095</td>\n",
              "      <td>0.022960</td>\n",
              "      <td>-0.016874</td>\n",
              "      <td>-0.011504</td>\n",
              "      <td>...</td>\n",
              "      <td>-0.001697</td>\n",
              "      <td>0.102946</td>\n",
              "      <td>-0.005140</td>\n",
              "      <td>-0.003614</td>\n",
              "      <td>-0.005140</td>\n",
              "      <td>-0.005957</td>\n",
              "      <td>-0.007243</td>\n",
              "      <td>-0.010718</td>\n",
              "      <td>-0.008068</td>\n",
              "      <td>0.131688</td>\n",
              "    </tr>\n",
              "    <tr>\n",
              "      <th>STDs:HIV</th>\n",
              "      <td>0.001526</td>\n",
              "      <td>0.016782</td>\n",
              "      <td>-0.008995</td>\n",
              "      <td>0.011994</td>\n",
              "      <td>0.054643</td>\n",
              "      <td>0.087869</td>\n",
              "      <td>0.053226</td>\n",
              "      <td>-0.080623</td>\n",
              "      <td>-0.037118</td>\n",
              "      <td>0.005809</td>\n",
              "      <td>...</td>\n",
              "      <td>-0.007273</td>\n",
              "      <td>0.549022</td>\n",
              "      <td>-0.022032</td>\n",
              "      <td>0.064366</td>\n",
              "      <td>-0.022032</td>\n",
              "      <td>0.023820</td>\n",
              "      <td>0.092401</td>\n",
              "      <td>0.129225</td>\n",
              "      <td>0.077349</td>\n",
              "      <td>0.128614</td>\n",
              "    </tr>\n",
              "    <tr>\n",
              "      <th>STDs</th>\n",
              "      <td>0.017910</td>\n",
              "      <td>0.051262</td>\n",
              "      <td>-0.003326</td>\n",
              "      <td>0.050703</td>\n",
              "      <td>0.108101</td>\n",
              "      <td>0.086930</td>\n",
              "      <td>0.027534</td>\n",
              "      <td>-0.052189</td>\n",
              "      <td>0.002820</td>\n",
              "      <td>0.056719</td>\n",
              "      <td>...</td>\n",
              "      <td>0.151579</td>\n",
              "      <td>0.907582</td>\n",
              "      <td>0.008368</td>\n",
              "      <td>0.005885</td>\n",
              "      <td>0.008368</td>\n",
              "      <td>-0.006629</td>\n",
              "      <td>0.054899</td>\n",
              "      <td>0.117248</td>\n",
              "      <td>0.054280</td>\n",
              "      <td>0.114650</td>\n",
              "    </tr>\n",
              "    <tr>\n",
              "      <th>Dx:CIN</th>\n",
              "      <td>0.059899</td>\n",
              "      <td>0.015310</td>\n",
              "      <td>-0.033159</td>\n",
              "      <td>-0.039803</td>\n",
              "      <td>-0.043385</td>\n",
              "      <td>-0.031358</td>\n",
              "      <td>-0.021388</td>\n",
              "      <td>-0.006333</td>\n",
              "      <td>0.002653</td>\n",
              "      <td>0.042849</td>\n",
              "      <td>...</td>\n",
              "      <td>-0.005115</td>\n",
              "      <td>0.007259</td>\n",
              "      <td>-0.015494</td>\n",
              "      <td>1.000000</td>\n",
              "      <td>-0.015494</td>\n",
              "      <td>0.606787</td>\n",
              "      <td>-0.021833</td>\n",
              "      <td>0.008753</td>\n",
              "      <td>-0.024322</td>\n",
              "      <td>0.114026</td>\n",
              "    </tr>\n",
              "    <tr>\n",
              "      <th>STDs (number)</th>\n",
              "      <td>-0.008484</td>\n",
              "      <td>0.037583</td>\n",
              "      <td>0.015528</td>\n",
              "      <td>0.008009</td>\n",
              "      <td>0.097156</td>\n",
              "      <td>0.086424</td>\n",
              "      <td>0.028667</td>\n",
              "      <td>-0.060083</td>\n",
              "      <td>-0.001555</td>\n",
              "      <td>0.058105</td>\n",
              "      <td>...</td>\n",
              "      <td>0.076868</td>\n",
              "      <td>0.898208</td>\n",
              "      <td>-0.013342</td>\n",
              "      <td>-0.009382</td>\n",
              "      <td>-0.013342</td>\n",
              "      <td>-0.024379</td>\n",
              "      <td>0.071649</td>\n",
              "      <td>0.129533</td>\n",
              "      <td>0.062194</td>\n",
              "      <td>0.103572</td>\n",
              "    </tr>\n",
              "  </tbody>\n",
              "</table>\n",
              "<p>12 rows × 34 columns</p>\n",
              "</div>\n",
              "      <button class=\"colab-df-convert\" onclick=\"convertToInteractive('df-ad314264-553d-45c6-aa04-06dc7fc72e9e')\"\n",
              "              title=\"Convert this dataframe to an interactive table.\"\n",
              "              style=\"display:none;\">\n",
              "        \n",
              "  <svg xmlns=\"http://www.w3.org/2000/svg\" height=\"24px\"viewBox=\"0 0 24 24\"\n",
              "       width=\"24px\">\n",
              "    <path d=\"M0 0h24v24H0V0z\" fill=\"none\"/>\n",
              "    <path d=\"M18.56 5.44l.94 2.06.94-2.06 2.06-.94-2.06-.94-.94-2.06-.94 2.06-2.06.94zm-11 1L8.5 8.5l.94-2.06 2.06-.94-2.06-.94L8.5 2.5l-.94 2.06-2.06.94zm10 10l.94 2.06.94-2.06 2.06-.94-2.06-.94-.94-2.06-.94 2.06-2.06.94z\"/><path d=\"M17.41 7.96l-1.37-1.37c-.4-.4-.92-.59-1.43-.59-.52 0-1.04.2-1.43.59L10.3 9.45l-7.72 7.72c-.78.78-.78 2.05 0 2.83L4 21.41c.39.39.9.59 1.41.59.51 0 1.02-.2 1.41-.59l7.78-7.78 2.81-2.81c.8-.78.8-2.07 0-2.86zM5.41 20L4 18.59l7.72-7.72 1.47 1.35L5.41 20z\"/>\n",
              "  </svg>\n",
              "      </button>\n",
              "      \n",
              "  <style>\n",
              "    .colab-df-container {\n",
              "      display:flex;\n",
              "      flex-wrap:wrap;\n",
              "      gap: 12px;\n",
              "    }\n",
              "\n",
              "    .colab-df-convert {\n",
              "      background-color: #E8F0FE;\n",
              "      border: none;\n",
              "      border-radius: 50%;\n",
              "      cursor: pointer;\n",
              "      display: none;\n",
              "      fill: #1967D2;\n",
              "      height: 32px;\n",
              "      padding: 0 0 0 0;\n",
              "      width: 32px;\n",
              "    }\n",
              "\n",
              "    .colab-df-convert:hover {\n",
              "      background-color: #E2EBFA;\n",
              "      box-shadow: 0px 1px 2px rgba(60, 64, 67, 0.3), 0px 1px 3px 1px rgba(60, 64, 67, 0.15);\n",
              "      fill: #174EA6;\n",
              "    }\n",
              "\n",
              "    [theme=dark] .colab-df-convert {\n",
              "      background-color: #3B4455;\n",
              "      fill: #D2E3FC;\n",
              "    }\n",
              "\n",
              "    [theme=dark] .colab-df-convert:hover {\n",
              "      background-color: #434B5C;\n",
              "      box-shadow: 0px 1px 3px 1px rgba(0, 0, 0, 0.15);\n",
              "      filter: drop-shadow(0px 1px 2px rgba(0, 0, 0, 0.3));\n",
              "      fill: #FFFFFF;\n",
              "    }\n",
              "  </style>\n",
              "\n",
              "      <script>\n",
              "        const buttonEl =\n",
              "          document.querySelector('#df-ad314264-553d-45c6-aa04-06dc7fc72e9e button.colab-df-convert');\n",
              "        buttonEl.style.display =\n",
              "          google.colab.kernel.accessAllowed ? 'block' : 'none';\n",
              "\n",
              "        async function convertToInteractive(key) {\n",
              "          const element = document.querySelector('#df-ad314264-553d-45c6-aa04-06dc7fc72e9e');\n",
              "          const dataTable =\n",
              "            await google.colab.kernel.invokeFunction('convertToInteractive',\n",
              "                                                     [key], {});\n",
              "          if (!dataTable) return;\n",
              "\n",
              "          const docLinkHtml = 'Like what you see? Visit the ' +\n",
              "            '<a target=\"_blank\" href=https://colab.research.google.com/notebooks/data_table.ipynb>data table notebook</a>'\n",
              "            + ' to learn more about interactive tables.';\n",
              "          element.innerHTML = '';\n",
              "          dataTable['output_type'] = 'display_data';\n",
              "          await google.colab.output.renderOutput(dataTable, element);\n",
              "          const docLink = document.createElement('div');\n",
              "          docLink.innerHTML = docLinkHtml;\n",
              "          element.appendChild(docLink);\n",
              "        }\n",
              "      </script>\n",
              "    </div>\n",
              "  </div>\n",
              "  "
            ]
          },
          "metadata": {},
          "execution_count": 180
        }
      ]
    },
    {
      "cell_type": "code",
      "source": [
        "fig, ax = plt.subplots(figsize=(8,8))\n",
        "sns.heatmap(corr, annot=False, cmap=\"Oranges\");"
      ],
      "metadata": {
        "colab": {
          "base_uri": "https://localhost:8080/",
          "height": 638
        },
        "id": "4ppl3pslLrrB",
        "outputId": "ed15fd7a-196c-42d9-d865-e325ec5a8df3"
      },
      "execution_count": 181,
      "outputs": [
        {
          "output_type": "display_data",
          "data": {
            "text/plain": [
              "<Figure size 576x576 with 2 Axes>"
            ],
            "image/png": "[encoded data removed]"
          },
          "metadata": {}
        }
      ]
    },
    {
      "cell_type": "markdown",
      "source": [
        "- Visualizing correlations with the target"
      ],
      "metadata": {
        "id": "K6Z1ncxLUHYM"
      }
    },
    {
      "cell_type": "code",
      "source": [
        "def plot_feature(feature):\n",
        "\n",
        "  fig, axes = plt.subplots( nrows=1, ncols=2, figsize=(10,4))\n",
        "\n",
        "  df.loc[df.loc[:,'Biopsy'] == 0,feature].hist(bins=5, edgecolor='black', ax = axes[0], density=True)\n",
        "  axes[0].set_title('Negative for CC', fontsize=12)\n",
        "  axes[0].set_xlabel(feature)\n",
        "  \n",
        "  df.loc[df.loc[:,'Biopsy'] == 1,feature].hist(bins=5, edgecolor='black', ax = axes[1], density=True)\n",
        "  axes[1].set_title('Positive for CC', fontsize=12)\n",
        "  axes[1].set_xlabel(feature);"
      ],
      "metadata": {
        "id": "-YStWPoSfpQ0"
      },
      "execution_count": 182,
      "outputs": []
    },
    {
      "cell_type": "code",
      "source": [
        "plot_feature('Smokes (years)')"
      ],
      "metadata": {
        "colab": {
          "base_uri": "https://localhost:8080/",
          "height": 294
        },
        "id": "qVH_kE6DgMnz",
        "outputId": "48c98ad0-8940-403f-bd3c-312d74e34953"
      },
      "execution_count": 183,
      "outputs": [
        {
          "output_type": "display_data",
          "data": {
            "text/plain": [
              "<Figure size 720x288 with 2 Axes>"
            ],
            "image/png": "[encoded data removed]"
          },
          "metadata": {}
        }
      ]
    },
    {
      "cell_type": "code",
      "source": [
        "plot_feature('Age')"
      ],
      "metadata": {
        "colab": {
          "base_uri": "https://localhost:8080/",
          "height": 294
        },
        "id": "gbinXkAOhdrP",
        "outputId": "fa2c68c4-5995-4e1f-a6be-47c4188f1fce"
      },
      "execution_count": 184,
      "outputs": [
        {
          "output_type": "display_data",
          "data": {
            "text/plain": [
              "<Figure size 720x288 with 2 Axes>"
            ],
            "image/png": "[encoded data removed]"
          },
          "metadata": {}
        }
      ]
    },
    {
      "cell_type": "code",
      "source": [
        "plot_feature('Number of sexual partners')"
      ],
      "metadata": {
        "colab": {
          "base_uri": "https://localhost:8080/",
          "height": 294
        },
        "id": "L6K8N5grhomC",
        "outputId": "0959e103-78e3-4b91-ab35-70c504d5faec"
      },
      "execution_count": 185,
      "outputs": [
        {
          "output_type": "display_data",
          "data": {
            "text/plain": [
              "<Figure size 720x288 with 2 Axes>"
            ],
            "image/png": "[encoded data removed]"
          },
          "metadata": {}
        }
      ]
    },
    {
      "cell_type": "markdown",
      "source": [
        "\n",
        "\n",
        "---\n",
        "\n",
        "\n",
        "\n",
        "---\n",
        "\n"
      ],
      "metadata": {
        "id": "tkegMjuMiqj3"
      }
    },
    {
      "cell_type": "markdown",
      "source": [
        "**3.2** From my data analysis, I'll create two visuals that demonstrate key findings of interest to a stakeholder. \n",
        "- These visuals should be reporting quality.  \n",
        "- Be sure to explain the finding associated with each visual.  (NO histograms, boxplots, or correlation plots)"
      ],
      "metadata": {
        "id": "m8ilUmdboQGb"
      }
    },
    {
      "cell_type": "markdown",
      "source": [
        "- HPV seems to have a great relationship with Cervical Cancer, let's check:"
      ],
      "metadata": {
        "id": "JOaFCjpLu9vG"
      }
    },
    {
      "cell_type": "code",
      "source": [
        "df_coded = df.copy()\n",
        "df_coded['Biopsy'].replace({0:'No', 1:'Yes'}, inplace = True)\n",
        "df_coded['Dx:HPV'].replace({0:'No', 1:'Yes'}, inplace = True)\n",
        "\n",
        "x1 = df_coded.groupby('Dx:HPV')['Biopsy'].value_counts(normalize=True).to_frame('Percentage').reset_index()\n",
        "x1"
      ],
      "metadata": {
        "id": "On1aQNBFbObO",
        "colab": {
          "base_uri": "https://localhost:8080/",
          "height": 175
        },
        "outputId": "82c57b5a-f270-4a95-fb95-14a9f02a69eb"
      },
      "execution_count": 186,
      "outputs": [
        {
          "output_type": "execute_result",
          "data": {
            "text/plain": [
              "  Dx:HPV Biopsy  Percentage\n",
              "0     No     No    0.941248\n",
              "1     No    Yes    0.058752\n",
              "2    Yes     No    0.666667\n",
              "3    Yes    Yes    0.333333"
            ],
            "text/html": [
              "\n",
              "  <div id=\"df-be072d25-c1e1-48f0-be82-a1e2db5f1947\">\n",
              "    <div class=\"colab-df-container\">\n",
              "      <div>\n",
              "<style scoped>\n",
              "    .dataframe tbody tr th:only-of-type {\n",
              "        vertical-align: middle;\n",
              "    }\n",
              "\n",
              "    .dataframe tbody tr th {\n",
              "        vertical-align: top;\n",
              "    }\n",
              "\n",
              "    .dataframe thead th {\n",
              "        text-align: right;\n",
              "    }\n",
              "</style>\n",
              "<table border=\"1\" class=\"dataframe\">\n",
              "  <thead>\n",
              "    <tr style=\"text-align: right;\">\n",
              "      <th></th>\n",
              "      <th>Dx:HPV</th>\n",
              "      <th>Biopsy</th>\n",
              "      <th>Percentage</th>\n",
              "    </tr>\n",
              "  </thead>\n",
              "  <tbody>\n",
              "    <tr>\n",
              "      <th>0</th>\n",
              "      <td>No</td>\n",
              "      <td>No</td>\n",
              "      <td>0.941248</td>\n",
              "    </tr>\n",
              "    <tr>\n",
              "      <th>1</th>\n",
              "      <td>No</td>\n",
              "      <td>Yes</td>\n",
              "      <td>0.058752</td>\n",
              "    </tr>\n",
              "    <tr>\n",
              "      <th>2</th>\n",
              "      <td>Yes</td>\n",
              "      <td>No</td>\n",
              "      <td>0.666667</td>\n",
              "    </tr>\n",
              "    <tr>\n",
              "      <th>3</th>\n",
              "      <td>Yes</td>\n",
              "      <td>Yes</td>\n",
              "      <td>0.333333</td>\n",
              "    </tr>\n",
              "  </tbody>\n",
              "</table>\n",
              "</div>\n",
              "      <button class=\"colab-df-convert\" onclick=\"convertToInteractive('df-be072d25-c1e1-48f0-be82-a1e2db5f1947')\"\n",
              "              title=\"Convert this dataframe to an interactive table.\"\n",
              "              style=\"display:none;\">\n",
              "        \n",
              "  <svg xmlns=\"http://www.w3.org/2000/svg\" height=\"24px\"viewBox=\"0 0 24 24\"\n",
              "       width=\"24px\">\n",
              "    <path d=\"M0 0h24v24H0V0z\" fill=\"none\"/>\n",
              "    <path d=\"M18.56 5.44l.94 2.06.94-2.06 2.06-.94-2.06-.94-.94-2.06-.94 2.06-2.06.94zm-11 1L8.5 8.5l.94-2.06 2.06-.94-2.06-.94L8.5 2.5l-.94 2.06-2.06.94zm10 10l.94 2.06.94-2.06 2.06-.94-2.06-.94-.94-2.06-.94 2.06-2.06.94z\"/><path d=\"M17.41 7.96l-1.37-1.37c-.4-.4-.92-.59-1.43-.59-.52 0-1.04.2-1.43.59L10.3 9.45l-7.72 7.72c-.78.78-.78 2.05 0 2.83L4 21.41c.39.39.9.59 1.41.59.51 0 1.02-.2 1.41-.59l7.78-7.78 2.81-2.81c.8-.78.8-2.07 0-2.86zM5.41 20L4 18.59l7.72-7.72 1.47 1.35L5.41 20z\"/>\n",
              "  </svg>\n",
              "      </button>\n",
              "      \n",
              "  <style>\n",
              "    .colab-df-container {\n",
              "      display:flex;\n",
              "      flex-wrap:wrap;\n",
              "      gap: 12px;\n",
              "    }\n",
              "\n",
              "    .colab-df-convert {\n",
              "      background-color: #E8F0FE;\n",
              "      border: none;\n",
              "      border-radius: 50%;\n",
              "      cursor: pointer;\n",
              "      display: none;\n",
              "      fill: #1967D2;\n",
              "      height: 32px;\n",
              "      padding: 0 0 0 0;\n",
              "      width: 32px;\n",
              "    }\n",
              "\n",
              "    .colab-df-convert:hover {\n",
              "      background-color: #E2EBFA;\n",
              "      box-shadow: 0px 1px 2px rgba(60, 64, 67, 0.3), 0px 1px 3px 1px rgba(60, 64, 67, 0.15);\n",
              "      fill: #174EA6;\n",
              "    }\n",
              "\n",
              "    [theme=dark] .colab-df-convert {\n",
              "      background-color: #3B4455;\n",
              "      fill: #D2E3FC;\n",
              "    }\n",
              "\n",
              "    [theme=dark] .colab-df-convert:hover {\n",
              "      background-color: #434B5C;\n",
              "      box-shadow: 0px 1px 3px 1px rgba(0, 0, 0, 0.15);\n",
              "      filter: drop-shadow(0px 1px 2px rgba(0, 0, 0, 0.3));\n",
              "      fill: #FFFFFF;\n",
              "    }\n",
              "  </style>\n",
              "\n",
              "      <script>\n",
              "        const buttonEl =\n",
              "          document.querySelector('#df-be072d25-c1e1-48f0-be82-a1e2db5f1947 button.colab-df-convert');\n",
              "        buttonEl.style.display =\n",
              "          google.colab.kernel.accessAllowed ? 'block' : 'none';\n",
              "\n",
              "        async function convertToInteractive(key) {\n",
              "          const element = document.querySelector('#df-be072d25-c1e1-48f0-be82-a1e2db5f1947');\n",
              "          const dataTable =\n",
              "            await google.colab.kernel.invokeFunction('convertToInteractive',\n",
              "                                                     [key], {});\n",
              "          if (!dataTable) return;\n",
              "\n",
              "          const docLinkHtml = 'Like what you see? Visit the ' +\n",
              "            '<a target=\"_blank\" href=https://colab.research.google.com/notebooks/data_table.ipynb>data table notebook</a>'\n",
              "            + ' to learn more about interactive tables.';\n",
              "          element.innerHTML = '';\n",
              "          dataTable['output_type'] = 'display_data';\n",
              "          await google.colab.output.renderOutput(dataTable, element);\n",
              "          const docLink = document.createElement('div');\n",
              "          docLink.innerHTML = docLinkHtml;\n",
              "          element.appendChild(docLink);\n",
              "        }\n",
              "      </script>\n",
              "    </div>\n",
              "  </div>\n",
              "  "
            ]
          },
          "metadata": {},
          "execution_count": 186
        }
      ]
    },
    {
      "cell_type": "code",
      "source": [
        "plt.figure(figsize=(8, 6))\n",
        "\n",
        "ax = sns.barplot(x=\"Dx:HPV\",  y='Percentage', hue=\"Biopsy\", data=x1)\n",
        "ax.set_xlabel('Patient HPV Diagnose', fontsize=13)\n",
        "ax.set_ylabel('% of Patient Diagnosed with/without Cervical Cancer', fontsize=13) \n",
        "ax.set_title('Cervical Cancer among Patients with HPV', fontsize = 20)\n",
        "plt.legend(title='Cervical Cancer diagnosed by biopsy test')\n",
        "plt.savefig('plot1.png', bbox_inches = 'tight',);"
      ],
      "metadata": {
        "id": "YRBVYbuHaktP",
        "colab": {
          "base_uri": "https://localhost:8080/",
          "height": 411
        },
        "outputId": "7b1a76fb-ce8d-4f49-c685-cdeae6d0cba0"
      },
      "execution_count": 187,
      "outputs": [
        {
          "output_type": "display_data",
          "data": {
            "text/plain": [
              "<Figure size 576x432 with 1 Axes>"
            ],
            "image/png": "[encoded data removed]"
          },
          "metadata": {}
        }
      ]
    },
    {
      "cell_type": "markdown",
      "source": [
        "- Out of 835 patients, 1/3 or 33% of those patients diagnosed with HPV were also diagnosed with cervical cancer, only 5% of those without HPV were diagnosed with Cervical Cancer. \n",
        "\n",
        "- \"Virtually all cervical cancers are caused by HPV. Routine screening can prevent most cervical cancers by allowing health care providers to find and remove precancerous cells before they develop into cancer.\"  (source: https://www.cancer.gov/about-cancer/causes-prevention/risk/infectious-agents#hpv)\n",
        "\n",
        "- That is why it is important to invest in prevention."
      ],
      "metadata": {
        "id": "fCxVBSmO19JQ"
      }
    },
    {
      "cell_type": "code",
      "source": [
        ""
      ],
      "metadata": {
        "id": "3oTKBkGE-wEl"
      },
      "execution_count": 187,
      "outputs": []
    },
    {
      "cell_type": "markdown",
      "source": [
        "- Now, I will separate the data in 3 groups, patients that have been using Hormonal Contraceptives for 10 or more than 10 years, for less than 10 years, and those that have never used them, and compare the cervical cancer rates among them"
      ],
      "metadata": {
        "id": "NnOhQbLFQo7E"
      }
    },
    {
      "cell_type": "code",
      "source": [
        "greater_10 = df.loc[df['Hormonal Contraceptives (years)']>=10]\n",
        "less_10 = df.loc[(df['Hormonal Contraceptives (years)']>0) & (df_coded['Hormonal Contraceptives (years)']<10)]\n",
        "no_hc = df.loc[(df['Hormonal Contraceptives (years)']==0)]\n",
        "\n",
        "g_10 = ((greater_10['Biopsy'].sum())/len(greater_10)*100).round(2)\n",
        "g_less = ((less_10['Biopsy'].sum())/len(less_10)*100).round(2)\n",
        "no_hc = ((no_hc['Biopsy'].sum())/len(no_hc)*100).round(2)\n",
        "\n",
        "label1 =['Equal or more than 10', 'Less than 10, more than 0', 'None']\n",
        "totals1 =[g_10,g_less, no_hc]\n",
        "x2 = pd.DataFrame()\n",
        "x2['labels']= label1\n",
        "x2['percentage'] = totals1\n"
      ],
      "metadata": {
        "id": "8VDqbjig43fW"
      },
      "execution_count": 188,
      "outputs": []
    },
    {
      "cell_type": "code",
      "source": [
        "plt.figure(figsize=(8, 6))\n",
        "\n",
        "ax = sns.barplot(x=\"labels\",  y='percentage',  data=x2)\n",
        "ax.set_xlabel('Years of Hormonal Contraceptives Use ', fontsize=13)\n",
        "ax.set_ylabel('% of Patient Diagnosed with Cervical Cancer', fontsize=13) \n",
        "ax.set_title('Cervical Cancer vs Period of Hormonal Contraceptives Use ', fontsize = 20)\n",
        "plt.savefig('plot2.png', bbox_inches = 'tight',);"
      ],
      "metadata": {
        "colab": {
          "base_uri": "https://localhost:8080/",
          "height": 411
        },
        "id": "fao-YCPVOSUQ",
        "outputId": "04f436b1-9941-4832-9d83-172eb4a88a5f"
      },
      "execution_count": 189,
      "outputs": [
        {
          "output_type": "display_data",
          "data": {
            "text/plain": [
              "<Figure size 576x432 with 1 Axes>"
            ],
            "image/png": "[encoded data removed]"
          },
          "metadata": {}
        }
      ]
    },
    {
      "cell_type": "markdown",
      "source": [
        "- The longer a woman uses oral contraceptives, the greater the increase in her risk of cervical cancer. One study found a 10% increased risk for less than 5 years of use, a 60% increased risk with 5–9 years of use, and a doubling of the risk with 10 or more years of use (source: https://www.cancer.gov/about-cancer/causes-prevention/risk/hormones/oral-contraceptives-fact-sheet)\n",
        "\n",
        "- In our sample, 18% more women were diagnosed with Cervical Cancer among those patients using Hormonal Contraceptive for longer than 10 years. "
      ],
      "metadata": {
        "id": "9RQkriWy5siR"
      }
    },
    {
      "cell_type": "markdown",
      "source": [
        "- The next histogram is to show the relationship between the age of those patientes with CC and the use of HC"
      ],
      "metadata": {
        "id": "weqnCUBgetJ-"
      }
    },
    {
      "cell_type": "code",
      "source": [
        "df_biopsy_yes = df.loc[df['Biopsy']>0]\n",
        "\n",
        "with_hc = df_biopsy_yes.loc[df_biopsy_yes['Hormonal Contraceptives (years)']>0]\n",
        "no_hc = df_biopsy_yes.loc[df_biopsy_yes['Hormonal Contraceptives (years)']==0]"
      ],
      "metadata": {
        "id": "SXk5MqDPM3RF"
      },
      "execution_count": 190,
      "outputs": []
    },
    {
      "cell_type": "code",
      "source": [
        "plt.style.use('seaborn')\n",
        "plt.title('Age distribution among patients with CC', fontsize=20)\n",
        "with_hc['Age'].hist(bins=10, edgecolor='black', color='red', alpha=0.5,  label='Using HC');\n",
        "no_hc['Age'].hist(bins=10, edgecolor='black', alpha=0.5,  label='NOT Using HC')\n",
        "plt.legend(fontsize=12); \n"
      ],
      "metadata": {
        "colab": {
          "base_uri": "https://localhost:8080/",
          "height": 368
        },
        "id": "COh_1ps5Px7g",
        "outputId": "63d4f48c-2250-4046-eb91-bb535c5d5ede"
      },
      "execution_count": 191,
      "outputs": [
        {
          "output_type": "display_data",
          "data": {
            "text/plain": [
              "<Figure size 576x396 with 1 Axes>"
            ],
            "image/png": "[encoded data removed]"
          },
          "metadata": {}
        }
      ]
    },
    {
      "cell_type": "markdown",
      "source": [
        "- In the plot above, we will notice that using Hormonal Contraceptive (red bars) caused more women to develop CC in earlier age compared to those that didn't use HC. "
      ],
      "metadata": {
        "id": "V_u8sHjJScRe"
      }
    },
    {
      "cell_type": "code",
      "source": [
        ""
      ],
      "metadata": {
        "id": "FUYpsJf2SbvQ"
      },
      "execution_count": 191,
      "outputs": []
    },
    {
      "cell_type": "markdown",
      "source": [
        "###Part 4 - Modeling"
      ],
      "metadata": {
        "id": "gs9rv9BqTIAa"
      }
    },
    {
      "cell_type": "code",
      "source": [
        "df_ml.info()"
      ],
      "metadata": {
        "colab": {
          "base_uri": "https://localhost:8080/"
        },
        "id": "f7UZ_ROoTK7f",
        "outputId": "5434a260-f83f-4de9-a1f9-9ba23ff69738"
      },
      "execution_count": 192,
      "outputs": [
        {
          "output_type": "stream",
          "name": "stdout",
          "text": [
            "<class 'pandas.core.frame.DataFrame'>\n",
            "Int64Index: 835 entries, 0 to 857\n",
            "Data columns (total 34 columns):\n",
            " #   Column                              Non-Null Count  Dtype  \n",
            "---  ------                              --------------  -----  \n",
            " 0   Age                                 835 non-null    int64  \n",
            " 1   Number of sexual partners           810 non-null    float64\n",
            " 2   First sexual intercourse            828 non-null    float64\n",
            " 3   Num of pregnancies                  779 non-null    float64\n",
            " 4   Smokes                              822 non-null    float64\n",
            " 5   Smokes (years)                      822 non-null    float64\n",
            " 6   Smokes (packs/year)                 822 non-null    float64\n",
            " 7   Hormonal Contraceptives             732 non-null    float64\n",
            " 8   Hormonal Contraceptives (years)     732 non-null    float64\n",
            " 9   IUD                                 723 non-null    float64\n",
            " 10  IUD (years)                         723 non-null    float64\n",
            " 11  STDs                                735 non-null    float64\n",
            " 12  STDs (number)                       735 non-null    float64\n",
            " 13  STDs:condylomatosis                 735 non-null    float64\n",
            " 14  STDs:cervical condylomatosis        735 non-null    float64\n",
            " 15  STDs:vaginal condylomatosis         735 non-null    float64\n",
            " 16  STDs:vulvo-perineal condylomatosis  735 non-null    float64\n",
            " 17  STDs:syphilis                       735 non-null    float64\n",
            " 18  STDs:pelvic inflammatory disease    735 non-null    float64\n",
            " 19  STDs:genital herpes                 735 non-null    float64\n",
            " 20  STDs:molluscum contagiosum          735 non-null    float64\n",
            " 21  STDs:AIDS                           735 non-null    float64\n",
            " 22  STDs:HIV                            735 non-null    float64\n",
            " 23  STDs:Hepatitis B                    735 non-null    float64\n",
            " 24  STDs:HPV                            735 non-null    float64\n",
            " 25  STDs: Number of diagnosis           835 non-null    int64  \n",
            " 26  Dx:Cancer                           835 non-null    int64  \n",
            " 27  Dx:CIN                              835 non-null    int64  \n",
            " 28  Dx:HPV                              835 non-null    int64  \n",
            " 29  Dx                                  835 non-null    int64  \n",
            " 30  Hinselmann                          835 non-null    int64  \n",
            " 31  Schiller                            835 non-null    int64  \n",
            " 32  Citology                            835 non-null    int64  \n",
            " 33  Biopsy                              835 non-null    int64  \n",
            "dtypes: float64(24), int64(10)\n",
            "memory usage: 228.3 KB\n"
          ]
        }
      ]
    },
    {
      "cell_type": "code",
      "source": [
        "df_ml.duplicated().sum()"
      ],
      "metadata": {
        "colab": {
          "base_uri": "https://localhost:8080/"
        },
        "id": "vOQ04Q0PUhMY",
        "outputId": "f42b8f4f-747d-4491-c35d-8281c358deb7"
      },
      "execution_count": 193,
      "outputs": [
        {
          "output_type": "execute_result",
          "data": {
            "text/plain": [
              "0"
            ]
          },
          "metadata": {},
          "execution_count": 193
        }
      ]
    },
    {
      "cell_type": "code",
      "source": [
        "df_ml['Biopsy'].value_counts(normalize=True)"
      ],
      "metadata": {
        "colab": {
          "base_uri": "https://localhost:8080/"
        },
        "id": "3whowYCpUq8H",
        "outputId": "1c0549e3-be25-4720-f3bb-331cdba6e6f3"
      },
      "execution_count": 194,
      "outputs": [
        {
          "output_type": "execute_result",
          "data": {
            "text/plain": [
              "0    0.935329\n",
              "1    0.064671\n",
              "Name: Biopsy, dtype: float64"
            ]
          },
          "metadata": {},
          "execution_count": 194
        }
      ]
    },
    {
      "cell_type": "markdown",
      "source": [
        "- This dataset, just like most of the datasets for deseases like cancer, considered 'rare', is inbalanced for the target. So before applying any model, we will work on handleling this imbalance and also the missing values."
      ],
      "metadata": {
        "id": "aXhYmfbdWcp7"
      }
    },
    {
      "cell_type": "markdown",
      "source": [
        "- I will handle missing values, scale and encode, apply SMOTE and transform first, then I'll trst a few different models. Some Classification models don't need scaling but, to make this preparation unique, so i don't have to redo it for each model, I'll just do it now."
      ],
      "metadata": {
        "id": "-QsWv7nsYAGh"
      }
    },
    {
      "cell_type": "code",
      "source": [
        "X = df_ml.drop(columns='Biopsy')\n",
        "y = df_ml['Biopsy']\n",
        "\n",
        "X_train, X_test, y_train, y_test = train_test_split(X, y, random_state=42, stratify=y)"
      ],
      "metadata": {
        "id": "SdMDQRHDVMUP"
      },
      "execution_count": 195,
      "outputs": []
    },
    {
      "cell_type": "code",
      "source": [
        "freq_imputer = SimpleImputer(strategy='most_frequent')\n",
        "scaler = StandardScaler()\n",
        "\n",
        "pipe1 = make_pipeline(freq_imputer,scaler)\n"
      ],
      "metadata": {
        "id": "iPl9la5oZT0v"
      },
      "execution_count": 196,
      "outputs": []
    },
    {
      "cell_type": "code",
      "source": [
        "pipe1.fit(X_train)\n",
        "X_train_processed = pipe1.transform(X_train)\n",
        "X_test_processed = pipe1.transform(X_test)"
      ],
      "metadata": {
        "id": "SL7KAuNefjzT"
      },
      "execution_count": 197,
      "outputs": []
    },
    {
      "cell_type": "code",
      "source": [
        "smote = SMOTE(sampling_strategy='auto')\n",
        "\n",
        "X_train_smote, y_train_smote = smote.fit_resample(X_train_processed, y_train)\n",
        "\n",
        "y_train_smote.value_counts()"
      ],
      "metadata": {
        "colab": {
          "base_uri": "https://localhost:8080/"
        },
        "id": "Rj0wXlEQe9bz",
        "outputId": "b3f850ed-dc73-462c-8e12-38a727111760"
      },
      "execution_count": 198,
      "outputs": [
        {
          "output_type": "execute_result",
          "data": {
            "text/plain": [
              "0    586\n",
              "1    586\n",
              "Name: Biopsy, dtype: int64"
            ]
          },
          "metadata": {},
          "execution_count": 198
        }
      ]
    },
    {
      "cell_type": "markdown",
      "source": [
        "**- From now on, for my models, I will work with:**\n",
        "  - X_train_smote, y_train_smote / X_test_processed, y_test\n"
      ],
      "metadata": {
        "id": "FyxuTwmqg4Mo"
      }
    },
    {
      "cell_type": "markdown",
      "source": [
        "####**4.1)** Try multiple models and tune the hyperparameters of each model to optimize model performance"
      ],
      "metadata": {
        "id": "KDlr1jb_sxQZ"
      }
    },
    {
      "cell_type": "markdown",
      "source": [
        "- Model 1 - Random Forrest"
      ],
      "metadata": {
        "id": "6OX1ywtrhWmc"
      }
    },
    {
      "cell_type": "code",
      "source": [
        "rf = RandomForestClassifier(random_state = 42)\n",
        "rf.fit(X_train_smote, y_train_smote)\n",
        "rf.get_params()"
      ],
      "metadata": {
        "colab": {
          "base_uri": "https://localhost:8080/"
        },
        "id": "tTJWseiphJ4E",
        "outputId": "63cee735-8637-4624-82f7-1ff5ec6ab3d8"
      },
      "execution_count": 199,
      "outputs": [
        {
          "output_type": "execute_result",
          "data": {
            "text/plain": [
              "{'bootstrap': True,\n",
              " 'ccp_alpha': 0.0,\n",
              " 'class_weight': None,\n",
              " 'criterion': 'gini',\n",
              " 'max_depth': None,\n",
              " 'max_features': 'auto',\n",
              " 'max_leaf_nodes': None,\n",
              " 'max_samples': None,\n",
              " 'min_impurity_decrease': 0.0,\n",
              " 'min_samples_leaf': 1,\n",
              " 'min_samples_split': 2,\n",
              " 'min_weight_fraction_leaf': 0.0,\n",
              " 'n_estimators': 100,\n",
              " 'n_jobs': None,\n",
              " 'oob_score': False,\n",
              " 'random_state': 42,\n",
              " 'verbose': 0,\n",
              " 'warm_start': False}"
            ]
          },
          "metadata": {},
          "execution_count": 199
        }
      ]
    },
    {
      "cell_type": "code",
      "source": [
        "rf_param_grid ={ 'max_depth':range(1,20),  'n_estimators': [ 10, 50, 100, 150]  }\n",
        "rf_pipe_gs = GridSearchCV(rf, rf_param_grid)\n",
        "rf_pipe_gs.fit(X_train_smote, y_train_smote)"
      ],
      "metadata": {
        "colab": {
          "base_uri": "https://localhost:8080/",
          "height": 93
        },
        "id": "KVzq36nijyKa",
        "outputId": "76f122a6-8ab1-4451-e92a-18f3b16e3628"
      },
      "execution_count": 200,
      "outputs": [
        {
          "output_type": "execute_result",
          "data": {
            "text/plain": [
              "GridSearchCV(estimator=RandomForestClassifier(random_state=42),\n",
              "             param_grid={'max_depth': range(1, 20),\n",
              "                         'n_estimators': [10, 50, 100, 150]})"
            ],
            "text/html": [
              "<style>#sk-a4c6fb7a-04be-4a3b-b1ec-28ce59df6ab2 {color: black;background-color: white;}#sk-a4c6fb7a-04be-4a3b-b1ec-28ce59df6ab2 pre{padding: 0;}#sk-a4c6fb7a-04be-4a3b-b1ec-28ce59df6ab2 div.sk-toggleable {background-color: white;}#sk-a4c6fb7a-04be-4a3b-b1ec-28ce59df6ab2 label.sk-toggleable__label {cursor: pointer;display: block;width: 100%;margin-bottom: 0;padding: 0.3em;box-sizing: border-box;text-align: center;}#sk-a4c6fb7a-04be-4a3b-b1ec-28ce59df6ab2 label.sk-toggleable__label-arrow:before {content: \"▸\";float: left;margin-right: 0.25em;color: #696969;}#sk-a4c6fb7a-04be-4a3b-b1ec-28ce59df6ab2 label.sk-toggleable__label-arrow:hover:before {color: black;}#sk-a4c6fb7a-04be-4a3b-b1ec-28ce59df6ab2 div.sk-estimator:hover label.sk-toggleable__label-arrow:before {color: black;}#sk-a4c6fb7a-04be-4a3b-b1ec-28ce59df6ab2 div.sk-toggleable__content {max-height: 0;max-width: 0;overflow: hidden;text-align: left;background-color: #f0f8ff;}#sk-a4c6fb7a-04be-4a3b-b1ec-28ce59df6ab2 div.sk-toggleable__content pre {margin: 0.2em;color: black;border-radius: 0.25em;background-color: #f0f8ff;}#sk-a4c6fb7a-04be-4a3b-b1ec-28ce59df6ab2 input.sk-toggleable__control:checked~div.sk-toggleable__content {max-height: 200px;max-width: 100%;overflow: auto;}#sk-a4c6fb7a-04be-4a3b-b1ec-28ce59df6ab2 input.sk-toggleable__control:checked~label.sk-toggleable__label-arrow:before {content: \"▾\";}#sk-a4c6fb7a-04be-4a3b-b1ec-28ce59df6ab2 div.sk-estimator input.sk-toggleable__control:checked~label.sk-toggleable__label {background-color: #d4ebff;}#sk-a4c6fb7a-04be-4a3b-b1ec-28ce59df6ab2 div.sk-label input.sk-toggleable__control:checked~label.sk-toggleable__label {background-color: #d4ebff;}#sk-a4c6fb7a-04be-4a3b-b1ec-28ce59df6ab2 input.sk-hidden--visually {border: 0;clip: rect(1px 1px 1px 1px);clip: rect(1px, 1px, 1px, 1px);height: 1px;margin: -1px;overflow: hidden;padding: 0;position: absolute;width: 1px;}#sk-a4c6fb7a-04be-4a3b-b1ec-28ce59df6ab2 div.sk-estimator {font-family: monospace;background-color: #f0f8ff;border: 1px dotted black;border-radius: 0.25em;box-sizing: border-box;margin-bottom: 0.5em;}#sk-a4c6fb7a-04be-4a3b-b1ec-28ce59df6ab2 div.sk-estimator:hover {background-color: #d4ebff;}#sk-a4c6fb7a-04be-4a3b-b1ec-28ce59df6ab2 div.sk-parallel-item::after {content: \"\";width: 100%;border-bottom: 1px solid gray;flex-grow: 1;}#sk-a4c6fb7a-04be-4a3b-b1ec-28ce59df6ab2 div.sk-label:hover label.sk-toggleable__label {background-color: #d4ebff;}#sk-a4c6fb7a-04be-4a3b-b1ec-28ce59df6ab2 div.sk-serial::before {content: \"\";position: absolute;border-left: 1px solid gray;box-sizing: border-box;top: 2em;bottom: 0;left: 50%;}#sk-a4c6fb7a-04be-4a3b-b1ec-28ce59df6ab2 div.sk-serial {display: flex;flex-direction: column;align-items: center;background-color: white;padding-right: 0.2em;padding-left: 0.2em;}#sk-a4c6fb7a-04be-4a3b-b1ec-28ce59df6ab2 div.sk-item {z-index: 1;}#sk-a4c6fb7a-04be-4a3b-b1ec-28ce59df6ab2 div.sk-parallel {display: flex;align-items: stretch;justify-content: center;background-color: white;}#sk-a4c6fb7a-04be-4a3b-b1ec-28ce59df6ab2 div.sk-parallel::before {content: \"\";position: absolute;border-left: 1px solid gray;box-sizing: border-box;top: 2em;bottom: 0;left: 50%;}#sk-a4c6fb7a-04be-4a3b-b1ec-28ce59df6ab2 div.sk-parallel-item {display: flex;flex-direction: column;position: relative;background-color: white;}#sk-a4c6fb7a-04be-4a3b-b1ec-28ce59df6ab2 div.sk-parallel-item:first-child::after {align-self: flex-end;width: 50%;}#sk-a4c6fb7a-04be-4a3b-b1ec-28ce59df6ab2 div.sk-parallel-item:last-child::after {align-self: flex-start;width: 50%;}#sk-a4c6fb7a-04be-4a3b-b1ec-28ce59df6ab2 div.sk-parallel-item:only-child::after {width: 0;}#sk-a4c6fb7a-04be-4a3b-b1ec-28ce59df6ab2 div.sk-dashed-wrapped {border: 1px dashed gray;margin: 0 0.4em 0.5em 0.4em;box-sizing: border-box;padding-bottom: 0.4em;background-color: white;position: relative;}#sk-a4c6fb7a-04be-4a3b-b1ec-28ce59df6ab2 div.sk-label label {font-family: monospace;font-weight: bold;background-color: white;display: inline-block;line-height: 1.2em;}#sk-a4c6fb7a-04be-4a3b-b1ec-28ce59df6ab2 div.sk-label-container {position: relative;z-index: 2;text-align: center;}#sk-a4c6fb7a-04be-4a3b-b1ec-28ce59df6ab2 div.sk-container {/* jupyter's `normalize.less` sets `[hidden] { display: none; }` but bootstrap.min.css set `[hidden] { display: none !important; }` so we also need the `!important` here to be able to override the default hidden behavior on the sphinx rendered scikit-learn.org. See: https://github.com/scikit-learn/scikit-learn/issues/21755 */display: inline-block !important;position: relative;}#sk-a4c6fb7a-04be-4a3b-b1ec-28ce59df6ab2 div.sk-text-repr-fallback {display: none;}</style><div id=\"sk-a4c6fb7a-04be-4a3b-b1ec-28ce59df6ab2\" class=\"sk-top-container\"><div class=\"sk-text-repr-fallback\"><pre>GridSearchCV(estimator=RandomForestClassifier(random_state=42),\n",
              "             param_grid={&#x27;max_depth&#x27;: range(1, 20),\n",
              "                         &#x27;n_estimators&#x27;: [10, 50, 100, 150]})</pre><b>Please rerun this cell to show the HTML repr or trust the notebook.</b></div><div class=\"sk-container\" hidden><div class=\"sk-item sk-dashed-wrapped\"><div class=\"sk-label-container\"><div class=\"sk-label sk-toggleable\"><input class=\"sk-toggleable__control sk-hidden--visually\" id=\"589ced15-2c95-482c-814d-f254a7080ac7\" type=\"checkbox\" ><label for=\"589ced15-2c95-482c-814d-f254a7080ac7\" class=\"sk-toggleable__label sk-toggleable__label-arrow\">GridSearchCV</label><div class=\"sk-toggleable__content\"><pre>GridSearchCV(estimator=RandomForestClassifier(random_state=42),\n",
              "             param_grid={&#x27;max_depth&#x27;: range(1, 20),\n",
              "                         &#x27;n_estimators&#x27;: [10, 50, 100, 150]})</pre></div></div></div><div class=\"sk-parallel\"><div class=\"sk-parallel-item\"><div class=\"sk-item\"><div class=\"sk-serial\"><div class=\"sk-item\"><div class=\"sk-estimator sk-toggleable\"><input class=\"sk-toggleable__control sk-hidden--visually\" id=\"9c7371b3-b3ef-4bc9-8ff6-ae80710a3172\" type=\"checkbox\" ><label for=\"9c7371b3-b3ef-4bc9-8ff6-ae80710a3172\" class=\"sk-toggleable__label sk-toggleable__label-arrow\">RandomForestClassifier</label><div class=\"sk-toggleable__content\"><pre>RandomForestClassifier(random_state=42)</pre></div></div></div></div></div></div></div></div></div></div>"
            ]
          },
          "metadata": {},
          "execution_count": 200
        }
      ]
    },
    {
      "cell_type": "code",
      "source": [
        "rf_pipe_gs.best_params_\n",
        "rf_best_pipe = rf_pipe_gs.best_estimator_\n",
        "rf_best_pipe.fit(X_train_smote, y_train_smote)\n",
        "best_score_rf = rf_best_pipe.score(X_test_processed, y_test)\n",
        "best_score_rf "
      ],
      "metadata": {
        "colab": {
          "base_uri": "https://localhost:8080/"
        },
        "id": "wBM7PYqvkEsI",
        "outputId": "fecb80e9-df80-4c1a-e512-e4d2ac4075ef"
      },
      "execution_count": 201,
      "outputs": [
        {
          "output_type": "execute_result",
          "data": {
            "text/plain": [
              "0.9617224880382775"
            ]
          },
          "metadata": {},
          "execution_count": 201
        }
      ]
    },
    {
      "cell_type": "code",
      "source": [
        "#making predictions to evaluate other metrics\n",
        "rf_pred_train = rf_best_pipe.predict(X_train_smote)\n",
        "rf_pred_test = rf_best_pipe.predict(X_test_processed)\n",
        "\n",
        "print(classification_report(y_test, rf_pred_test))"
      ],
      "metadata": {
        "colab": {
          "base_uri": "https://localhost:8080/"
        },
        "id": "x-2dyhfpkshi",
        "outputId": "7adcc77b-f1f3-4cf6-cf9e-816c7eb9f710"
      },
      "execution_count": 202,
      "outputs": [
        {
          "output_type": "stream",
          "name": "stdout",
          "text": [
            "              precision    recall  f1-score   support\n",
            "\n",
            "           0       0.98      0.97      0.98       195\n",
            "           1       0.69      0.79      0.73        14\n",
            "\n",
            "    accuracy                           0.96       209\n",
            "   macro avg       0.84      0.88      0.86       209\n",
            "weighted avg       0.96      0.96      0.96       209\n",
            "\n"
          ]
        }
      ]
    },
    {
      "cell_type": "markdown",
      "source": [
        "- Model 2 - KNN"
      ],
      "metadata": {
        "id": "iTUzXH0blIb_"
      }
    },
    {
      "cell_type": "code",
      "source": [
        "knn = KNeighborsClassifier() \n",
        "knn.fit(X_train_smote, y_train_smote)\n",
        "knn.get_params()"
      ],
      "metadata": {
        "colab": {
          "base_uri": "https://localhost:8080/"
        },
        "id": "5x0pxrfpks_n",
        "outputId": "5ca17a0d-c46f-4a61-81fe-38345cafc063"
      },
      "execution_count": 203,
      "outputs": [
        {
          "output_type": "execute_result",
          "data": {
            "text/plain": [
              "{'algorithm': 'auto',\n",
              " 'leaf_size': 30,\n",
              " 'metric': 'minkowski',\n",
              " 'metric_params': None,\n",
              " 'n_jobs': None,\n",
              " 'n_neighbors': 5,\n",
              " 'p': 2,\n",
              " 'weights': 'uniform'}"
            ]
          },
          "metadata": {},
          "execution_count": 203
        }
      ]
    },
    {
      "cell_type": "code",
      "source": [
        "knn_param_grid ={'n_neighbors':range(1,20)}"
      ],
      "metadata": {
        "id": "rHFKfR4Dlq2G"
      },
      "execution_count": 204,
      "outputs": []
    },
    {
      "cell_type": "code",
      "source": [
        "knn_pipe_gs = GridSearchCV(knn, knn_param_grid)\n",
        "knn_pipe_gs.fit(X_train_smote, y_train_smote)"
      ],
      "metadata": {
        "colab": {
          "base_uri": "https://localhost:8080/",
          "height": 93
        },
        "id": "isU6OfgKl8Wo",
        "outputId": "bd9177e8-1599-4b4d-d427-ec41bb9bf911"
      },
      "execution_count": 205,
      "outputs": [
        {
          "output_type": "execute_result",
          "data": {
            "text/plain": [
              "GridSearchCV(estimator=KNeighborsClassifier(),\n",
              "             param_grid={'n_neighbors': range(1, 20)})"
            ],
            "text/html": [
              "<style>#sk-92f1dfa7-415a-480c-b33d-3bed72c8e19e {color: black;background-color: white;}#sk-92f1dfa7-415a-480c-b33d-3bed72c8e19e pre{padding: 0;}#sk-92f1dfa7-415a-480c-b33d-3bed72c8e19e div.sk-toggleable {background-color: white;}#sk-92f1dfa7-415a-480c-b33d-3bed72c8e19e label.sk-toggleable__label {cursor: pointer;display: block;width: 100%;margin-bottom: 0;padding: 0.3em;box-sizing: border-box;text-align: center;}#sk-92f1dfa7-415a-480c-b33d-3bed72c8e19e label.sk-toggleable__label-arrow:before {content: \"▸\";float: left;margin-right: 0.25em;color: #696969;}#sk-92f1dfa7-415a-480c-b33d-3bed72c8e19e label.sk-toggleable__label-arrow:hover:before {color: black;}#sk-92f1dfa7-415a-480c-b33d-3bed72c8e19e div.sk-estimator:hover label.sk-toggleable__label-arrow:before {color: black;}#sk-92f1dfa7-415a-480c-b33d-3bed72c8e19e div.sk-toggleable__content {max-height: 0;max-width: 0;overflow: hidden;text-align: left;background-color: #f0f8ff;}#sk-92f1dfa7-415a-480c-b33d-3bed72c8e19e div.sk-toggleable__content pre {margin: 0.2em;color: black;border-radius: 0.25em;background-color: #f0f8ff;}#sk-92f1dfa7-415a-480c-b33d-3bed72c8e19e input.sk-toggleable__control:checked~div.sk-toggleable__content {max-height: 200px;max-width: 100%;overflow: auto;}#sk-92f1dfa7-415a-480c-b33d-3bed72c8e19e input.sk-toggleable__control:checked~label.sk-toggleable__label-arrow:before {content: \"▾\";}#sk-92f1dfa7-415a-480c-b33d-3bed72c8e19e div.sk-estimator input.sk-toggleable__control:checked~label.sk-toggleable__label {background-color: #d4ebff;}#sk-92f1dfa7-415a-480c-b33d-3bed72c8e19e div.sk-label input.sk-toggleable__control:checked~label.sk-toggleable__label {background-color: #d4ebff;}#sk-92f1dfa7-415a-480c-b33d-3bed72c8e19e input.sk-hidden--visually {border: 0;clip: rect(1px 1px 1px 1px);clip: rect(1px, 1px, 1px, 1px);height: 1px;margin: -1px;overflow: hidden;padding: 0;position: absolute;width: 1px;}#sk-92f1dfa7-415a-480c-b33d-3bed72c8e19e div.sk-estimator {font-family: monospace;background-color: #f0f8ff;border: 1px dotted black;border-radius: 0.25em;box-sizing: border-box;margin-bottom: 0.5em;}#sk-92f1dfa7-415a-480c-b33d-3bed72c8e19e div.sk-estimator:hover {background-color: #d4ebff;}#sk-92f1dfa7-415a-480c-b33d-3bed72c8e19e div.sk-parallel-item::after {content: \"\";width: 100%;border-bottom: 1px solid gray;flex-grow: 1;}#sk-92f1dfa7-415a-480c-b33d-3bed72c8e19e div.sk-label:hover label.sk-toggleable__label {background-color: #d4ebff;}#sk-92f1dfa7-415a-480c-b33d-3bed72c8e19e div.sk-serial::before {content: \"\";position: absolute;border-left: 1px solid gray;box-sizing: border-box;top: 2em;bottom: 0;left: 50%;}#sk-92f1dfa7-415a-480c-b33d-3bed72c8e19e div.sk-serial {display: flex;flex-direction: column;align-items: center;background-color: white;padding-right: 0.2em;padding-left: 0.2em;}#sk-92f1dfa7-415a-480c-b33d-3bed72c8e19e div.sk-item {z-index: 1;}#sk-92f1dfa7-415a-480c-b33d-3bed72c8e19e div.sk-parallel {display: flex;align-items: stretch;justify-content: center;background-color: white;}#sk-92f1dfa7-415a-480c-b33d-3bed72c8e19e div.sk-parallel::before {content: \"\";position: absolute;border-left: 1px solid gray;box-sizing: border-box;top: 2em;bottom: 0;left: 50%;}#sk-92f1dfa7-415a-480c-b33d-3bed72c8e19e div.sk-parallel-item {display: flex;flex-direction: column;position: relative;background-color: white;}#sk-92f1dfa7-415a-480c-b33d-3bed72c8e19e div.sk-parallel-item:first-child::after {align-self: flex-end;width: 50%;}#sk-92f1dfa7-415a-480c-b33d-3bed72c8e19e div.sk-parallel-item:last-child::after {align-self: flex-start;width: 50%;}#sk-92f1dfa7-415a-480c-b33d-3bed72c8e19e div.sk-parallel-item:only-child::after {width: 0;}#sk-92f1dfa7-415a-480c-b33d-3bed72c8e19e div.sk-dashed-wrapped {border: 1px dashed gray;margin: 0 0.4em 0.5em 0.4em;box-sizing: border-box;padding-bottom: 0.4em;background-color: white;position: relative;}#sk-92f1dfa7-415a-480c-b33d-3bed72c8e19e div.sk-label label {font-family: monospace;font-weight: bold;background-color: white;display: inline-block;line-height: 1.2em;}#sk-92f1dfa7-415a-480c-b33d-3bed72c8e19e div.sk-label-container {position: relative;z-index: 2;text-align: center;}#sk-92f1dfa7-415a-480c-b33d-3bed72c8e19e div.sk-container {/* jupyter's `normalize.less` sets `[hidden] { display: none; }` but bootstrap.min.css set `[hidden] { display: none !important; }` so we also need the `!important` here to be able to override the default hidden behavior on the sphinx rendered scikit-learn.org. See: https://github.com/scikit-learn/scikit-learn/issues/21755 */display: inline-block !important;position: relative;}#sk-92f1dfa7-415a-480c-b33d-3bed72c8e19e div.sk-text-repr-fallback {display: none;}</style><div id=\"sk-92f1dfa7-415a-480c-b33d-3bed72c8e19e\" class=\"sk-top-container\"><div class=\"sk-text-repr-fallback\"><pre>GridSearchCV(estimator=KNeighborsClassifier(),\n",
              "             param_grid={&#x27;n_neighbors&#x27;: range(1, 20)})</pre><b>Please rerun this cell to show the HTML repr or trust the notebook.</b></div><div class=\"sk-container\" hidden><div class=\"sk-item sk-dashed-wrapped\"><div class=\"sk-label-container\"><div class=\"sk-label sk-toggleable\"><input class=\"sk-toggleable__control sk-hidden--visually\" id=\"82520dd7-142a-45d9-be60-c2aa79fc8835\" type=\"checkbox\" ><label for=\"82520dd7-142a-45d9-be60-c2aa79fc8835\" class=\"sk-toggleable__label sk-toggleable__label-arrow\">GridSearchCV</label><div class=\"sk-toggleable__content\"><pre>GridSearchCV(estimator=KNeighborsClassifier(),\n",
              "             param_grid={&#x27;n_neighbors&#x27;: range(1, 20)})</pre></div></div></div><div class=\"sk-parallel\"><div class=\"sk-parallel-item\"><div class=\"sk-item\"><div class=\"sk-serial\"><div class=\"sk-item\"><div class=\"sk-estimator sk-toggleable\"><input class=\"sk-toggleable__control sk-hidden--visually\" id=\"e0132e3d-fc70-46c6-bd2d-91a4b210a21f\" type=\"checkbox\" ><label for=\"e0132e3d-fc70-46c6-bd2d-91a4b210a21f\" class=\"sk-toggleable__label sk-toggleable__label-arrow\">KNeighborsClassifier</label><div class=\"sk-toggleable__content\"><pre>KNeighborsClassifier()</pre></div></div></div></div></div></div></div></div></div></div>"
            ]
          },
          "metadata": {},
          "execution_count": 205
        }
      ]
    },
    {
      "cell_type": "code",
      "source": [
        "knn_pipe_gs.best_params_\n",
        "knn_best_pipe = knn_pipe_gs.best_estimator_\n",
        "knn_best_pipe.fit(X_train_smote, y_train_smote)\n",
        "best_score_knn = knn_best_pipe.score(X_test_processed, y_test)\n",
        "best_score_knn"
      ],
      "metadata": {
        "colab": {
          "base_uri": "https://localhost:8080/"
        },
        "id": "_DDbravPlt4x",
        "outputId": "af0cfb94-7909-4643-c87e-33315a65fd67"
      },
      "execution_count": 206,
      "outputs": [
        {
          "output_type": "execute_result",
          "data": {
            "text/plain": [
              "0.9186602870813397"
            ]
          },
          "metadata": {},
          "execution_count": 206
        }
      ]
    },
    {
      "cell_type": "code",
      "source": [
        "knn_pred_train = knn_best_pipe.predict(X_train_smote)\n",
        "knn_pred_test = knn_best_pipe.predict(X_test_processed)\n",
        "print(classification_report(y_test, knn_pred_test))"
      ],
      "metadata": {
        "colab": {
          "base_uri": "https://localhost:8080/"
        },
        "id": "XZTzaBg0mLlU",
        "outputId": "338b0169-0ba1-43d6-a261-b5313cfa534f"
      },
      "execution_count": 207,
      "outputs": [
        {
          "output_type": "stream",
          "name": "stdout",
          "text": [
            "              precision    recall  f1-score   support\n",
            "\n",
            "           0       0.96      0.95      0.96       195\n",
            "           1       0.40      0.43      0.41        14\n",
            "\n",
            "    accuracy                           0.92       209\n",
            "   macro avg       0.68      0.69      0.69       209\n",
            "weighted avg       0.92      0.92      0.92       209\n",
            "\n"
          ]
        }
      ]
    },
    {
      "cell_type": "markdown",
      "source": [
        "- Model 3 - LightGBM"
      ],
      "metadata": {
        "id": "L9NvzK-Hm2Q5"
      }
    },
    {
      "cell_type": "code",
      "source": [
        "lgbm = LGBMClassifier(random_state=42)\n",
        "lgbm.fit(X_train_smote, y_train_smote)\n",
        "lgbm.score(X_test_processed, y_test)"
      ],
      "metadata": {
        "colab": {
          "base_uri": "https://localhost:8080/"
        },
        "id": "9PLnZ6KLmy3H",
        "outputId": "2dd56d30-1c09-4f43-e7b9-5de17100c498"
      },
      "execution_count": 208,
      "outputs": [
        {
          "output_type": "execute_result",
          "data": {
            "text/plain": [
              "0.9617224880382775"
            ]
          },
          "metadata": {},
          "execution_count": 208
        }
      ]
    },
    {
      "cell_type": "code",
      "source": [
        "lgbm.get_params()"
      ],
      "metadata": {
        "colab": {
          "base_uri": "https://localhost:8080/"
        },
        "id": "8jo-G3vPouQG",
        "outputId": "7a10fb27-cef7-4353-90d3-7bb72adccd9d"
      },
      "execution_count": 209,
      "outputs": [
        {
          "output_type": "execute_result",
          "data": {
            "text/plain": [
              "{'boosting_type': 'gbdt',\n",
              " 'class_weight': None,\n",
              " 'colsample_bytree': 1.0,\n",
              " 'importance_type': 'split',\n",
              " 'learning_rate': 0.1,\n",
              " 'max_depth': -1,\n",
              " 'min_child_samples': 20,\n",
              " 'min_child_weight': 0.001,\n",
              " 'min_split_gain': 0.0,\n",
              " 'n_estimators': 100,\n",
              " 'n_jobs': -1,\n",
              " 'num_leaves': 31,\n",
              " 'objective': None,\n",
              " 'random_state': 42,\n",
              " 'reg_alpha': 0.0,\n",
              " 'reg_lambda': 0.0,\n",
              " 'silent': True,\n",
              " 'subsample': 1.0,\n",
              " 'subsample_for_bin': 200000,\n",
              " 'subsample_freq': 0}"
            ]
          },
          "metadata": {},
          "execution_count": 209
        }
      ]
    },
    {
      "cell_type": "code",
      "source": [
        "lgbm_param_grid ={'n_estimators':[10,50,100,150] }"
      ],
      "metadata": {
        "id": "IWxptzkXo3jk"
      },
      "execution_count": 210,
      "outputs": []
    },
    {
      "cell_type": "code",
      "source": [
        "lgbm_pipe_gs = GridSearchCV(lgbm, lgbm_param_grid)\n",
        "lgbm_pipe_gs.fit(X_train_smote, y_train_smote)"
      ],
      "metadata": {
        "colab": {
          "base_uri": "https://localhost:8080/",
          "height": 93
        },
        "id": "yCnrhGNxqI7O",
        "outputId": "100eb49a-3a50-406a-938d-1587bd1a82ce"
      },
      "execution_count": 211,
      "outputs": [
        {
          "output_type": "execute_result",
          "data": {
            "text/plain": [
              "GridSearchCV(estimator=LGBMClassifier(random_state=42),\n",
              "             param_grid={'n_estimators': [10, 50, 100, 150]})"
            ],
            "text/html": [
              "<style>#sk-8853d738-4161-4106-a863-27c0715f30a1 {color: black;background-color: white;}#sk-8853d738-4161-4106-a863-27c0715f30a1 pre{padding: 0;}#sk-8853d738-4161-4106-a863-27c0715f30a1 div.sk-toggleable {background-color: white;}#sk-8853d738-4161-4106-a863-27c0715f30a1 label.sk-toggleable__label {cursor: pointer;display: block;width: 100%;margin-bottom: 0;padding: 0.3em;box-sizing: border-box;text-align: center;}#sk-8853d738-4161-4106-a863-27c0715f30a1 label.sk-toggleable__label-arrow:before {content: \"▸\";float: left;margin-right: 0.25em;color: #696969;}#sk-8853d738-4161-4106-a863-27c0715f30a1 label.sk-toggleable__label-arrow:hover:before {color: black;}#sk-8853d738-4161-4106-a863-27c0715f30a1 div.sk-estimator:hover label.sk-toggleable__label-arrow:before {color: black;}#sk-8853d738-4161-4106-a863-27c0715f30a1 div.sk-toggleable__content {max-height: 0;max-width: 0;overflow: hidden;text-align: left;background-color: #f0f8ff;}#sk-8853d738-4161-4106-a863-27c0715f30a1 div.sk-toggleable__content pre {margin: 0.2em;color: black;border-radius: 0.25em;background-color: #f0f8ff;}#sk-8853d738-4161-4106-a863-27c0715f30a1 input.sk-toggleable__control:checked~div.sk-toggleable__content {max-height: 200px;max-width: 100%;overflow: auto;}#sk-8853d738-4161-4106-a863-27c0715f30a1 input.sk-toggleable__control:checked~label.sk-toggleable__label-arrow:before {content: \"▾\";}#sk-8853d738-4161-4106-a863-27c0715f30a1 div.sk-estimator input.sk-toggleable__control:checked~label.sk-toggleable__label {background-color: #d4ebff;}#sk-8853d738-4161-4106-a863-27c0715f30a1 div.sk-label input.sk-toggleable__control:checked~label.sk-toggleable__label {background-color: #d4ebff;}#sk-8853d738-4161-4106-a863-27c0715f30a1 input.sk-hidden--visually {border: 0;clip: rect(1px 1px 1px 1px);clip: rect(1px, 1px, 1px, 1px);height: 1px;margin: -1px;overflow: hidden;padding: 0;position: absolute;width: 1px;}#sk-8853d738-4161-4106-a863-27c0715f30a1 div.sk-estimator {font-family: monospace;background-color: #f0f8ff;border: 1px dotted black;border-radius: 0.25em;box-sizing: border-box;margin-bottom: 0.5em;}#sk-8853d738-4161-4106-a863-27c0715f30a1 div.sk-estimator:hover {background-color: #d4ebff;}#sk-8853d738-4161-4106-a863-27c0715f30a1 div.sk-parallel-item::after {content: \"\";width: 100%;border-bottom: 1px solid gray;flex-grow: 1;}#sk-8853d738-4161-4106-a863-27c0715f30a1 div.sk-label:hover label.sk-toggleable__label {background-color: #d4ebff;}#sk-8853d738-4161-4106-a863-27c0715f30a1 div.sk-serial::before {content: \"\";position: absolute;border-left: 1px solid gray;box-sizing: border-box;top: 2em;bottom: 0;left: 50%;}#sk-8853d738-4161-4106-a863-27c0715f30a1 div.sk-serial {display: flex;flex-direction: column;align-items: center;background-color: white;padding-right: 0.2em;padding-left: 0.2em;}#sk-8853d738-4161-4106-a863-27c0715f30a1 div.sk-item {z-index: 1;}#sk-8853d738-4161-4106-a863-27c0715f30a1 div.sk-parallel {display: flex;align-items: stretch;justify-content: center;background-color: white;}#sk-8853d738-4161-4106-a863-27c0715f30a1 div.sk-parallel::before {content: \"\";position: absolute;border-left: 1px solid gray;box-sizing: border-box;top: 2em;bottom: 0;left: 50%;}#sk-8853d738-4161-4106-a863-27c0715f30a1 div.sk-parallel-item {display: flex;flex-direction: column;position: relative;background-color: white;}#sk-8853d738-4161-4106-a863-27c0715f30a1 div.sk-parallel-item:first-child::after {align-self: flex-end;width: 50%;}#sk-8853d738-4161-4106-a863-27c0715f30a1 div.sk-parallel-item:last-child::after {align-self: flex-start;width: 50%;}#sk-8853d738-4161-4106-a863-27c0715f30a1 div.sk-parallel-item:only-child::after {width: 0;}#sk-8853d738-4161-4106-a863-27c0715f30a1 div.sk-dashed-wrapped {border: 1px dashed gray;margin: 0 0.4em 0.5em 0.4em;box-sizing: border-box;padding-bottom: 0.4em;background-color: white;position: relative;}#sk-8853d738-4161-4106-a863-27c0715f30a1 div.sk-label label {font-family: monospace;font-weight: bold;background-color: white;display: inline-block;line-height: 1.2em;}#sk-8853d738-4161-4106-a863-27c0715f30a1 div.sk-label-container {position: relative;z-index: 2;text-align: center;}#sk-8853d738-4161-4106-a863-27c0715f30a1 div.sk-container {/* jupyter's `normalize.less` sets `[hidden] { display: none; }` but bootstrap.min.css set `[hidden] { display: none !important; }` so we also need the `!important` here to be able to override the default hidden behavior on the sphinx rendered scikit-learn.org. See: https://github.com/scikit-learn/scikit-learn/issues/21755 */display: inline-block !important;position: relative;}#sk-8853d738-4161-4106-a863-27c0715f30a1 div.sk-text-repr-fallback {display: none;}</style><div id=\"sk-8853d738-4161-4106-a863-27c0715f30a1\" class=\"sk-top-container\"><div class=\"sk-text-repr-fallback\"><pre>GridSearchCV(estimator=LGBMClassifier(random_state=42),\n",
              "             param_grid={&#x27;n_estimators&#x27;: [10, 50, 100, 150]})</pre><b>Please rerun this cell to show the HTML repr or trust the notebook.</b></div><div class=\"sk-container\" hidden><div class=\"sk-item sk-dashed-wrapped\"><div class=\"sk-label-container\"><div class=\"sk-label sk-toggleable\"><input class=\"sk-toggleable__control sk-hidden--visually\" id=\"49967169-b1c6-4f05-9f14-913979cbea70\" type=\"checkbox\" ><label for=\"49967169-b1c6-4f05-9f14-913979cbea70\" class=\"sk-toggleable__label sk-toggleable__label-arrow\">GridSearchCV</label><div class=\"sk-toggleable__content\"><pre>GridSearchCV(estimator=LGBMClassifier(random_state=42),\n",
              "             param_grid={&#x27;n_estimators&#x27;: [10, 50, 100, 150]})</pre></div></div></div><div class=\"sk-parallel\"><div class=\"sk-parallel-item\"><div class=\"sk-item\"><div class=\"sk-serial\"><div class=\"sk-item\"><div class=\"sk-estimator sk-toggleable\"><input class=\"sk-toggleable__control sk-hidden--visually\" id=\"7f9cd3cf-311d-4744-a8bb-b3090170ea84\" type=\"checkbox\" ><label for=\"7f9cd3cf-311d-4744-a8bb-b3090170ea84\" class=\"sk-toggleable__label sk-toggleable__label-arrow\">LGBMClassifier</label><div class=\"sk-toggleable__content\"><pre>LGBMClassifier(random_state=42)</pre></div></div></div></div></div></div></div></div></div></div>"
            ]
          },
          "metadata": {},
          "execution_count": 211
        }
      ]
    },
    {
      "cell_type": "code",
      "source": [
        "lgbm_pipe_gs.best_params_\n",
        "\n",
        "lgbm_best_pipe = lgbm_pipe_gs.best_estimator_\n",
        "\n",
        "lgbm_best_pipe.fit(X_train_smote, y_train_smote)\n",
        "lgbm_best_pipe.score(X_test_processed, y_test)"
      ],
      "metadata": {
        "colab": {
          "base_uri": "https://localhost:8080/"
        },
        "id": "3H0L9Vo8qY1q",
        "outputId": "7b09ec1a-3498-4652-a88d-09002f57f0fb"
      },
      "execution_count": 212,
      "outputs": [
        {
          "output_type": "execute_result",
          "data": {
            "text/plain": [
              "0.9617224880382775"
            ]
          },
          "metadata": {},
          "execution_count": 212
        }
      ]
    },
    {
      "cell_type": "code",
      "source": [
        ""
      ],
      "metadata": {
        "id": "YZofwl28MLx1"
      },
      "execution_count": 212,
      "outputs": []
    },
    {
      "cell_type": "code",
      "source": [
        "lgbm_pred = lgbm_best_pipe.predict(X_test_processed)\n",
        "\n",
        "print(classification_report(y_test, lgbm_pred))"
      ],
      "metadata": {
        "colab": {
          "base_uri": "https://localhost:8080/"
        },
        "id": "3gCUOrYOm1o_",
        "outputId": "e42be595-0ef1-40bf-d432-99f3941c2192"
      },
      "execution_count": 213,
      "outputs": [
        {
          "output_type": "stream",
          "name": "stdout",
          "text": [
            "              precision    recall  f1-score   support\n",
            "\n",
            "           0       0.98      0.97      0.98       195\n",
            "           1       0.69      0.79      0.73        14\n",
            "\n",
            "    accuracy                           0.96       209\n",
            "   macro avg       0.84      0.88      0.86       209\n",
            "weighted avg       0.96      0.96      0.96       209\n",
            "\n"
          ]
        }
      ]
    },
    {
      "cell_type": "markdown",
      "source": [
        "  #### **4.2)** Perform PCA or another feature engineering technique on the dataset to see how this impacts the results."
      ],
      "metadata": {
        "id": "dNWBamvPse4a"
      }
    },
    {
      "cell_type": "markdown",
      "source": [
        "- Based on precision, recall and accuracy, I will proceed with Lgbm Model"
      ],
      "metadata": {
        "id": "PLhTkpzCrJq8"
      }
    },
    {
      "cell_type": "markdown",
      "source": [
        "For the sake of practicing, I will apply PCA to this dataset, however, when it comes to diagnosts we usually will favor a more sensitive model.\n",
        "Because we have the target, I will also try LDA.\n",
        "\n",
        "According to [this article](https://stackabuse.com/implementing-lda-in-python-with-scikit-learn/), For datasets with more classification type features, and when you are more interestes in a finer result rather than reducing your data, LDA should do a better job than PCA. Let's see!"
      ],
      "metadata": {
        "id": "TRS-ldbpuFyT"
      }
    },
    {
      "cell_type": "markdown",
      "source": [
        "- PCA"
      ],
      "metadata": {
        "id": "u1Wr596xyc2e"
      }
    },
    {
      "cell_type": "code",
      "source": [
        "model = lgbm_best_pipe #same model, just adjusting for best typing"
      ],
      "metadata": {
        "id": "hzLaGaTHycT9"
      },
      "execution_count": 214,
      "outputs": []
    },
    {
      "cell_type": "code",
      "source": [
        "pca = PCA(n_components=.95)"
      ],
      "metadata": {
        "id": "g0FhzxeHsdml"
      },
      "execution_count": 215,
      "outputs": []
    },
    {
      "cell_type": "code",
      "source": [
        "model_pca = make_pipeline(pca,model)\n",
        "model_pca.fit(X_train_smote, y_train_smote)\n",
        "model_pca_pred = model_pca.predict(X_test_processed)\n",
        "model_pca.score(X_test_processed, y_test)"
      ],
      "metadata": {
        "colab": {
          "base_uri": "https://localhost:8080/"
        },
        "id": "UXCx8KpBqt6h",
        "outputId": "f647f4e7-0fc3-4dd7-e718-df6501b8cb56"
      },
      "execution_count": 216,
      "outputs": [
        {
          "output_type": "execute_result",
          "data": {
            "text/plain": [
              "0.9282296650717703"
            ]
          },
          "metadata": {},
          "execution_count": 216
        }
      ]
    },
    {
      "cell_type": "code",
      "source": [
        "print(classification_report(y_test, model_pca_pred))"
      ],
      "metadata": {
        "colab": {
          "base_uri": "https://localhost:8080/"
        },
        "id": "1wfblNP7vppE",
        "outputId": "70f3c717-b81c-4a5c-b968-793fea2f642e"
      },
      "execution_count": 217,
      "outputs": [
        {
          "output_type": "stream",
          "name": "stdout",
          "text": [
            "              precision    recall  f1-score   support\n",
            "\n",
            "           0       0.95      0.97      0.96       195\n",
            "           1       0.45      0.36      0.40        14\n",
            "\n",
            "    accuracy                           0.93       209\n",
            "   macro avg       0.70      0.66      0.68       209\n",
            "weighted avg       0.92      0.93      0.92       209\n",
            "\n"
          ]
        }
      ]
    },
    {
      "cell_type": "markdown",
      "source": [
        "- LDA"
      ],
      "metadata": {
        "id": "xtyDEZ88yYgR"
      }
    },
    {
      "cell_type": "code",
      "source": [
        "lda = LDA(n_components=1)\n",
        "\n",
        "model_lda = make_pipeline(lda,model)\n",
        "model_lda.fit(X_train_smote, y_train_smote)\n",
        "model_lda_pred = model_lda.predict(X_test_processed)\n",
        "model_lda.score(X_test_processed, y_test)"
      ],
      "metadata": {
        "colab": {
          "base_uri": "https://localhost:8080/"
        },
        "id": "aw4SXWeIvsCj",
        "outputId": "b0549c10-dacc-4dc8-dbf7-95bbf44ecb74"
      },
      "execution_count": 218,
      "outputs": [
        {
          "output_type": "execute_result",
          "data": {
            "text/plain": [
              "0.9234449760765551"
            ]
          },
          "metadata": {},
          "execution_count": 218
        }
      ]
    },
    {
      "cell_type": "code",
      "source": [
        "\n",
        "print(classification_report(y_test, model_lda_pred))"
      ],
      "metadata": {
        "colab": {
          "base_uri": "https://localhost:8080/"
        },
        "id": "CXVF1mT61iem",
        "outputId": "538c3d77-04e7-429b-d093-83416f9c6935"
      },
      "execution_count": 219,
      "outputs": [
        {
          "output_type": "stream",
          "name": "stdout",
          "text": [
            "              precision    recall  f1-score   support\n",
            "\n",
            "           0       0.99      0.93      0.96       195\n",
            "           1       0.46      0.86      0.60        14\n",
            "\n",
            "    accuracy                           0.92       209\n",
            "   macro avg       0.73      0.89      0.78       209\n",
            "weighted avg       0.95      0.92      0.93       209\n",
            "\n"
          ]
        }
      ]
    },
    {
      "cell_type": "markdown",
      "source": [
        "- PCA has not improved our model, LDA imporved recall, but made precision worse, our model became more bias"
      ],
      "metadata": {
        "id": "HQW4QtDZ4sNC"
      }
    },
    {
      "cell_type": "markdown",
      "source": [
        "####**4.3)** Other metrics for our model"
      ],
      "metadata": {
        "id": "Yc_Evh8x5x1D"
      }
    },
    {
      "cell_type": "markdown",
      "source": [
        "-  We will proceed using Lgbm without any dimensionality reduction"
      ],
      "metadata": {
        "id": "BdiK7Hn_-rxo"
      }
    },
    {
      "cell_type": "code",
      "source": [
        "#Reviewing Scores, fitting again to reset the model\n",
        "\n",
        "model.fit(X_train_smote, y_train_smote)\n",
        "model.score(X_test_processed, y_test)\n",
        "prediction = model.predict(X_test_processed)\n",
        "prediction_train = model.predict(X_train_smote)\n",
        "\n",
        "print(classification_report(y_test, prediction))"
      ],
      "metadata": {
        "colab": {
          "base_uri": "https://localhost:8080/"
        },
        "id": "9z02aq84-0bt",
        "outputId": "3d23f448-d6d2-43e1-eda2-e9fa59f13e85"
      },
      "execution_count": 220,
      "outputs": [
        {
          "output_type": "stream",
          "name": "stdout",
          "text": [
            "              precision    recall  f1-score   support\n",
            "\n",
            "           0       0.98      0.97      0.98       195\n",
            "           1       0.69      0.79      0.73        14\n",
            "\n",
            "    accuracy                           0.96       209\n",
            "   macro avg       0.84      0.88      0.86       209\n",
            "weighted avg       0.96      0.96      0.96       209\n",
            "\n"
          ]
        }
      ]
    },
    {
      "cell_type": "markdown",
      "source": [
        "***Let's interpret our results!***"
      ],
      "metadata": {
        "id": "mQxCBJL-Y7UJ"
      }
    },
    {
      "cell_type": "markdown",
      "source": [
        "- **Accuracy:** Our model is able to explain 96% of the variation on the diagnosis predcted, namely, out of 100 tests, 96% will be correct.\n",
        "- **Recall:** Recall measures if our model tested negative for someone that shoul be testes as positive, namely a \"false negative\", in our case, that would be 79% of the time.\n",
        "- **Precision:** Precision will measure how many times our model made an incorrect prediction for positive cases of CC, a false positeve, we would like a score = 1, meaning no false positives, our model scored 69%."
      ],
      "metadata": {
        "id": "PNd5dbaKOBNb"
      }
    },
    {
      "cell_type": "markdown",
      "source": [
        "***We can also visuzalize the information above on the plot below:***"
      ],
      "metadata": {
        "id": "hSrwpxdJZNnT"
      }
    },
    {
      "cell_type": "code",
      "source": [
        "classes = ['CC Negative', 'CC Positive']"
      ],
      "metadata": {
        "id": "hK3Yrv7t6pE0"
      },
      "execution_count": 221,
      "outputs": []
    },
    {
      "cell_type": "code",
      "source": [
        "ConfusionMatrixDisplay.from_predictions(y_test, prediction, cmap='Greens', display_labels=classes, normalize='true')\n",
        "plt.grid(False)\n",
        "plt.savefig('confusion_matrix.jpg');"
      ],
      "metadata": {
        "colab": {
          "base_uri": "https://localhost:8080/",
          "height": 361
        },
        "id": "Az8mm2KB1i43",
        "outputId": "7d26f85e-de5d-4070-c4a0-28e6ac2ee61f"
      },
      "execution_count": 222,
      "outputs": [
        {
          "output_type": "display_data",
          "data": {
            "text/plain": [
              "<Figure size 576x396 with 2 Axes>"
            ],
            "image/png": "[encoded data removed]"
          },
          "metadata": {}
        }
      ]
    },
    {
      "cell_type": "markdown",
      "source": [
        "***Above we can see how True results and predicted results relate to each other***"
      ],
      "metadata": {
        "id": "X6oemiDzaH6H"
      }
    },
    {
      "cell_type": "code",
      "source": [
        "print(f'Testing AUC: {roc_auc_score(y_test, model.predict_proba(X_test_processed)[:,1]).round(4)}')"
      ],
      "metadata": {
        "colab": {
          "base_uri": "https://localhost:8080/"
        },
        "id": "mi0mMkTXRKCV",
        "outputId": "c52e71a5-0d3b-4be8-bbd7-aff064a9c607"
      },
      "execution_count": 223,
      "outputs": [
        {
          "output_type": "stream",
          "name": "stdout",
          "text": [
            "Testing AUC: 0.8641\n"
          ]
        }
      ]
    },
    {
      "cell_type": "code",
      "source": [
        "RocCurveDisplay.from_estimator(model, X_test_processed, y_test);\n"
      ],
      "metadata": {
        "id": "3eb4yYCA7cwt",
        "colab": {
          "base_uri": "https://localhost:8080/",
          "height": 361
        },
        "outputId": "bb34b49d-2529-48ea-f90f-7f27579013d4"
      },
      "execution_count": 224,
      "outputs": [
        {
          "output_type": "display_data",
          "data": {
            "text/plain": [
              "<Figure size 576x396 with 1 Axes>"
            ],
            "image/png": "[encoded data removed]"
          },
          "metadata": {}
        }
      ]
    },
    {
      "cell_type": "markdown",
      "source": [
        "- And finally , **AUC**, which describes the ability of our model to distinguish between a classe, in our case, a positive diagnosis and a negative one, this is an important metric because among positives and negatives we are measuaring a very imbalanced total, and detecting the rare case among the commun one is important."
      ],
      "metadata": {
        "id": "0kgTUCiRa1Ma"
      }
    },
    {
      "cell_type": "markdown",
      "source": [
        "### Conclusion"
      ],
      "metadata": {
        "id": "UBgbjCAUc67V"
      }
    },
    {
      "cell_type": "markdown",
      "source": [
        "- For this case, a false posite and a false negative are very serious errors, a patient without cancer should not be subimitted to treatment, and a positive result can't go untreated.\n",
        "- Having that in mind, I still believe that our model is useful, however I would suggest that a second measure would be used to confirm the results prior to treatment or dismissal of treatment."
      ],
      "metadata": {
        "id": "CsYhVIVkdD5i"
      }
    }
  ]
}